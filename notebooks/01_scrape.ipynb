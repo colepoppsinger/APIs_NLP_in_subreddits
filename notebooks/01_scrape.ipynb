{
 "cells": [
  {
   "cell_type": "code",
   "execution_count": 31,
   "id": "69f34418-573f-42be-8e6a-9e3179ff9bb4",
   "metadata": {},
   "outputs": [],
   "source": [
    "import pandas as pd\n",
    "import numpy as np\n",
    "import requests\n",
    "import time"
   ]
  },
  {
   "cell_type": "markdown",
   "id": "127d1af8-5823-40fe-aa1d-00d0f44bc64f",
   "metadata": {
    "tags": []
   },
   "source": [
    "### scraping from reddit: r/espresso + r/CraftBeer"
   ]
  },
  {
   "cell_type": "code",
   "execution_count": 32,
   "id": "eeba0ea4-120c-42eb-8ca4-fa2cacf7d0f1",
   "metadata": {
    "scrolled": true,
    "tags": []
   },
   "outputs": [
    {
     "name": "stdout",
     "output_type": "stream",
     "text": [
      "Scraped 0 posts for the espresso subreddit\n",
      "Scraped 100 posts for the espresso subreddit\n",
      "Scraped 200 posts for the espresso subreddit\n",
      "Scraped 300 posts for the espresso subreddit\n",
      "Scraped 400 posts for the espresso subreddit\n",
      "Scraped 500 posts for the espresso subreddit\n",
      "Scraped 600 posts for the espresso subreddit\n",
      "Scraped 700 posts for the espresso subreddit\n",
      "Scraped 800 posts for the espresso subreddit\n",
      "Scraped 900 posts for the espresso subreddit\n",
      "Scraped 1000 posts for the espresso subreddit\n",
      "Scraped 1100 posts for the espresso subreddit\n",
      "Scraped 1200 posts for the espresso subreddit\n",
      "Scraped 1300 posts for the espresso subreddit\n",
      "Scraped 1400 posts for the espresso subreddit\n",
      "Scraped 1500 posts for the espresso subreddit\n",
      "Scraped 1600 posts for the espresso subreddit\n",
      "Scraped 1700 posts for the espresso subreddit\n",
      "Scraped 1800 posts for the espresso subreddit\n",
      "Scraped 1900 posts for the espresso subreddit\n",
      "Scraped 2000 posts for the espresso subreddit\n",
      "Scraped 0 posts for the CraftBeer subreddit\n",
      "Scraped 100 posts for the CraftBeer subreddit\n",
      "Scraped 200 posts for the CraftBeer subreddit\n",
      "Scraped 300 posts for the CraftBeer subreddit\n",
      "Scraped 400 posts for the CraftBeer subreddit\n",
      "Scraped 500 posts for the CraftBeer subreddit\n",
      "Scraped 600 posts for the CraftBeer subreddit\n",
      "Scraped 700 posts for the CraftBeer subreddit\n",
      "Scraped 800 posts for the CraftBeer subreddit\n",
      "Scraped 900 posts for the CraftBeer subreddit\n",
      "Scraped 1000 posts for the CraftBeer subreddit\n",
      "Scraped 1100 posts for the CraftBeer subreddit\n",
      "Scraped 1200 posts for the CraftBeer subreddit\n",
      "Scraped 1300 posts for the CraftBeer subreddit\n",
      "Scraped 1400 posts for the CraftBeer subreddit\n",
      "Scraped 1500 posts for the CraftBeer subreddit\n",
      "Scraped 1600 posts for the CraftBeer subreddit\n",
      "Scraped 1700 posts for the CraftBeer subreddit\n",
      "Scraped 1800 posts for the CraftBeer subreddit\n",
      "Scraped 1900 posts for the CraftBeer subreddit\n",
      "Scraped 2000 posts for the CraftBeer subreddit\n"
     ]
    }
   ],
   "source": [
    "url = 'https://api.pushshift.io/reddit/search/submission'\n",
    "dfs = []\n",
    "subreddits = ['espresso', 'CraftBeer']\n",
    "for subreddit in subreddits:\n",
    "    \n",
    "    #set before to be current time\n",
    "    before = int(time.time())\n",
    "    \n",
    "    for i in range(21):\n",
    "        print(f'Scraped {i * 100} posts for the {subreddit} subreddit')\n",
    "        #create params: before, subreddit, size\n",
    "        params = {\n",
    "        'subreddit': subreddit,\n",
    "        'size': 100,\n",
    "        'before': before,\n",
    "        }\n",
    "        \n",
    "        #use the requests to get the response\n",
    "        res = requests.get(url, params=params)\n",
    "        \n",
    "        # if requests code == 200 (means it's good)\n",
    "        if res.status_code == 200:\n",
    "            \n",
    "            #turn the response into json\n",
    "            data = res.json()\n",
    "\n",
    "            #turn json into a DataFrame\n",
    "            posts = pd.DataFrame(data['data'])[['id', 'author', 'title', 'selftext', 'subreddit', 'created_utc']]\n",
    "\n",
    "            #add posts DataFrame to dfs\n",
    "            dfs.append(posts)\n",
    "\n",
    "            #set before to be the timestamp of the last post\n",
    "            before = posts['created_utc'].values[-1]\n",
    "\n",
    "            #space out intervals so that we don't look like a hacker\n",
    "            time.sleep(3)\n",
    "#concat all dfs\n",
    "df = pd.concat(dfs, ignore_index=True)"
   ]
  },
  {
   "cell_type": "code",
   "execution_count": 33,
   "id": "3909d25b-e258-44ce-82a8-f47fe6787f3e",
   "metadata": {},
   "outputs": [
    {
     "data": {
      "text/plain": [
       "(4199, 6)"
      ]
     },
     "execution_count": 33,
     "metadata": {},
     "output_type": "execute_result"
    }
   ],
   "source": [
    "df.shape"
   ]
  },
  {
   "cell_type": "code",
   "execution_count": 34,
   "id": "b06f175d-c85e-4076-9012-36e559bb81b6",
   "metadata": {},
   "outputs": [
    {
     "data": {
      "text/plain": [
       "espresso     2100\n",
       "CraftBeer    2099\n",
       "Name: subreddit, dtype: int64"
      ]
     },
     "execution_count": 34,
     "metadata": {},
     "output_type": "execute_result"
    }
   ],
   "source": [
    "df['subreddit'].value_counts()"
   ]
  },
  {
   "cell_type": "markdown",
   "id": "44b2aff0-3a0c-4a51-8cea-86bde3c15e13",
   "metadata": {},
   "source": [
    "### Save to csv"
   ]
  },
  {
   "cell_type": "code",
   "execution_count": 40,
   "id": "8deeeb36-d7fc-472d-9860-cc0482af9859",
   "metadata": {},
   "outputs": [],
   "source": [
    "#df.to_csv('./data/author_scrape.csv')"
   ]
  }
 ],
 "metadata": {
  "kernelspec": {
   "display_name": "Python 3 (ipykernel)",
   "language": "python",
   "name": "python3"
  },
  "language_info": {
   "codemirror_mode": {
    "name": "ipython",
    "version": 3
   },
   "file_extension": ".py",
   "mimetype": "text/x-python",
   "name": "python",
   "nbconvert_exporter": "python",
   "pygments_lexer": "ipython3",
   "version": "3.9.7"
  }
 },
 "nbformat": 4,
 "nbformat_minor": 5
}
