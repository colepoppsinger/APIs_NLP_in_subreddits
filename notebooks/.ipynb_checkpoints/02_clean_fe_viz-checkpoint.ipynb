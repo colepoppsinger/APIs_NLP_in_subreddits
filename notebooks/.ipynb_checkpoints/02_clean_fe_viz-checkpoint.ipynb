{
 "cells": [
  {
   "cell_type": "markdown",
   "id": "4bec958a-8f5a-491a-8f65-f85f8c35fdae",
   "metadata": {},
   "source": [
    "# CLEANING AND FEATURE ENGINEERING"
   ]
  },
  {
   "cell_type": "code",
   "execution_count": 25,
   "id": "8c759d88-0d56-4111-8275-e3677fb3936b",
   "metadata": {},
   "outputs": [],
   "source": [
    "import pandas as pd\n",
    "import numpy as np\n",
    "\n",
    "from nltk.sentiment.vader import SentimentIntensityAnalyzer"
   ]
  },
  {
   "cell_type": "code",
   "execution_count": 26,
   "id": "3e06c175-6770-4ace-a8c5-6623acd6ae1b",
   "metadata": {},
   "outputs": [],
   "source": [
    "df = pd.read_csv('./data/author_scrape.csv')\n",
    "df.drop(columns='Unnamed: 0', inplace=True)"
   ]
  },
  {
   "cell_type": "markdown",
   "id": "33daefb0-3ad0-455a-865e-94350570caf1",
   "metadata": {},
   "source": [
    "### CLEAN"
   ]
  },
  {
   "cell_type": "code",
   "execution_count": 27,
   "id": "6bfc2ec3-e5cb-4983-aaae-95863e4be747",
   "metadata": {},
   "outputs": [
    {
     "data": {
      "text/html": [
       "<div>\n",
       "<style scoped>\n",
       "    .dataframe tbody tr th:only-of-type {\n",
       "        vertical-align: middle;\n",
       "    }\n",
       "\n",
       "    .dataframe tbody tr th {\n",
       "        vertical-align: top;\n",
       "    }\n",
       "\n",
       "    .dataframe thead th {\n",
       "        text-align: right;\n",
       "    }\n",
       "</style>\n",
       "<table border=\"1\" class=\"dataframe\">\n",
       "  <thead>\n",
       "    <tr style=\"text-align: right;\">\n",
       "      <th></th>\n",
       "      <th>id</th>\n",
       "      <th>author</th>\n",
       "      <th>title</th>\n",
       "      <th>selftext</th>\n",
       "      <th>subreddit</th>\n",
       "      <th>created_utc</th>\n",
       "    </tr>\n",
       "  </thead>\n",
       "  <tbody>\n",
       "    <tr>\n",
       "      <th>0</th>\n",
       "      <td>t4d8wr</td>\n",
       "      <td>aman1791</td>\n",
       "      <td>First setup! I got reallyyy lucky with marketp...</td>\n",
       "      <td>NaN</td>\n",
       "      <td>espresso</td>\n",
       "      <td>1646155687</td>\n",
       "    </tr>\n",
       "    <tr>\n",
       "      <th>1</th>\n",
       "      <td>t4cy77</td>\n",
       "      <td>rc1024</td>\n",
       "      <td>Made myself a wdt tool with stand.</td>\n",
       "      <td>NaN</td>\n",
       "      <td>espresso</td>\n",
       "      <td>1646154916</td>\n",
       "    </tr>\n",
       "    <tr>\n",
       "      <th>2</th>\n",
       "      <td>t4cx8p</td>\n",
       "      <td>carsononline</td>\n",
       "      <td>Help with Lelit Bianca Paddle Resolution</td>\n",
       "      <td>So, I have a lelit bianca, and it seems as tho...</td>\n",
       "      <td>espresso</td>\n",
       "      <td>1646154847</td>\n",
       "    </tr>\n",
       "    <tr>\n",
       "      <th>3</th>\n",
       "      <td>t4cvtk</td>\n",
       "      <td>carsononline</td>\n",
       "      <td>Lelit Bianca Resolution on Paddle Question</td>\n",
       "      <td>NaN</td>\n",
       "      <td>espresso</td>\n",
       "      <td>1646154740</td>\n",
       "    </tr>\n",
       "    <tr>\n",
       "      <th>4</th>\n",
       "      <td>t4cuu0</td>\n",
       "      <td>no_lemming</td>\n",
       "      <td>tired of trial and error on espresso bean purc...</td>\n",
       "      <td>Anyone have a suggestion for a bean that can b...</td>\n",
       "      <td>espresso</td>\n",
       "      <td>1646154671</td>\n",
       "    </tr>\n",
       "  </tbody>\n",
       "</table>\n",
       "</div>"
      ],
      "text/plain": [
       "       id        author                                              title  \\\n",
       "0  t4d8wr      aman1791  First setup! I got reallyyy lucky with marketp...   \n",
       "1  t4cy77        rc1024                 Made myself a wdt tool with stand.   \n",
       "2  t4cx8p  carsononline           Help with Lelit Bianca Paddle Resolution   \n",
       "3  t4cvtk  carsononline         Lelit Bianca Resolution on Paddle Question   \n",
       "4  t4cuu0    no_lemming  tired of trial and error on espresso bean purc...   \n",
       "\n",
       "                                            selftext subreddit  created_utc  \n",
       "0                                                NaN  espresso   1646155687  \n",
       "1                                                NaN  espresso   1646154916  \n",
       "2  So, I have a lelit bianca, and it seems as tho...  espresso   1646154847  \n",
       "3                                                NaN  espresso   1646154740  \n",
       "4  Anyone have a suggestion for a bean that can b...  espresso   1646154671  "
      ]
     },
     "execution_count": 27,
     "metadata": {},
     "output_type": "execute_result"
    }
   ],
   "source": [
    "df.head()"
   ]
  },
  {
   "cell_type": "code",
   "execution_count": 28,
   "id": "9d4b0d50-5391-4b6c-a31c-a382797d7b9b",
   "metadata": {},
   "outputs": [
    {
     "data": {
      "text/plain": [
       "id                0\n",
       "author            0\n",
       "title             0\n",
       "selftext       2960\n",
       "subreddit         0\n",
       "created_utc       0\n",
       "dtype: int64"
      ]
     },
     "execution_count": 28,
     "metadata": {},
     "output_type": "execute_result"
    }
   ],
   "source": [
    "df.isnull().sum()"
   ]
  },
  {
   "cell_type": "code",
   "execution_count": 29,
   "id": "c1307589-4062-4888-b694-aa3191bfb079",
   "metadata": {},
   "outputs": [],
   "source": [
    "#replace null values in selftext with empty strings\n",
    "df = df.fillna('')"
   ]
  },
  {
   "cell_type": "code",
   "execution_count": 30,
   "id": "29ea5a49-d101-4396-8407-66cc961fe01a",
   "metadata": {
    "tags": []
   },
   "outputs": [
    {
     "name": "stdout",
     "output_type": "stream",
     "text": [
      "<class 'pandas.core.frame.DataFrame'>\n",
      "RangeIndex: 4199 entries, 0 to 4198\n",
      "Data columns (total 6 columns):\n",
      " #   Column       Non-Null Count  Dtype \n",
      "---  ------       --------------  ----- \n",
      " 0   id           4199 non-null   object\n",
      " 1   author       4199 non-null   object\n",
      " 2   title        4199 non-null   object\n",
      " 3   selftext     4199 non-null   object\n",
      " 4   subreddit    4199 non-null   object\n",
      " 5   created_utc  4199 non-null   int64 \n",
      "dtypes: int64(1), object(5)\n",
      "memory usage: 197.0+ KB\n"
     ]
    }
   ],
   "source": [
    "df.info()"
   ]
  },
  {
   "cell_type": "markdown",
   "id": "771c02c4-89e3-467b-b322-6b3a8b4a917e",
   "metadata": {},
   "source": [
    "## FEATURE ENGINEERING"
   ]
  },
  {
   "cell_type": "code",
   "execution_count": 31,
   "id": "130cf655-0999-457d-a99b-5497f79190fc",
   "metadata": {},
   "outputs": [],
   "source": [
    "#turn subreddit into a binary called topics\n",
    "df['topics'] = df['subreddit'].map({'espresso': 0, 'CraftBeer': 1})"
   ]
  },
  {
   "cell_type": "raw",
   "id": "02049a00-cff4-4035-8e24-ae3bee829e82",
   "metadata": {},
   "source": [
    "df[df['subreddit'].duplicated()].sort_values('author')"
   ]
  },
  {
   "cell_type": "markdown",
   "id": "e54d3006-d3a6-46be-a5fa-a12fd5e52a86",
   "metadata": {},
   "source": [
    "### create new columns for groupings of text"
   ]
  },
  {
   "cell_type": "code",
   "execution_count": 32,
   "id": "ce7a3cdf-ee97-4e7e-a913-481567cba61a",
   "metadata": {},
   "outputs": [],
   "source": [
    "#create title_selftext column\n",
    "df['title_selftext'] = df['title'] + df['selftext']\n",
    "\n",
    "#create a text column by adding title, selftext, and author\n",
    "df['text'] = df['title'] + df['selftext'] + df['author']"
   ]
  },
  {
   "cell_type": "markdown",
   "id": "16d17c4e-4448-49cb-86a1-e40260faa979",
   "metadata": {},
   "source": [
    "### engineer sentiment columns"
   ]
  },
  {
   "cell_type": "code",
   "execution_count": 33,
   "id": "ae3b37e3-1ce7-4a1a-b7c8-724ebb5e1090",
   "metadata": {},
   "outputs": [],
   "source": [
    "# instantiate sentiment analysis\n",
    "sia = SentimentIntensityAnalyzer()"
   ]
  },
  {
   "cell_type": "code",
   "execution_count": 34,
   "id": "0dc30426-1f8c-4645-ae92-673e1a47a6e4",
   "metadata": {
    "tags": []
   },
   "outputs": [],
   "source": [
    "#apply sia to title\n",
    "df['sentiment'] = df['title'].apply(sia.polarity_scores)\n",
    "\n",
    "#extract neutral, negaive, and positive sentiment scores\n",
    "df['sentiment_compound'] = df['sentiment'].map(lambda x: x['compound'])\n",
    "df['sentiment_neu'] = df['sentiment'].map(lambda x: x['neu'])\n",
    "df['sentiment_neg'] = df['sentiment'].map(lambda x: x['neg'])\n",
    "df['sentiment_pos'] = df['sentiment'].map(lambda x: x['pos'])"
   ]
  },
  {
   "cell_type": "code",
   "execution_count": 35,
   "id": "8a48536f-56aa-4100-942d-b341f1388013",
   "metadata": {},
   "outputs": [],
   "source": [
    "#apply sia to title_selftext\n",
    "df['title_selftext_sentiment'] = df['title_selftext'].apply(sia.polarity_scores)\n",
    "\n",
    "#create different sentiment columns by extracting from sentiment (was library)\n",
    "df['title_selftext_sentiment_compound'] = df['title_selftext_sentiment'].map(lambda x: x['compound'])\n",
    "df['title_selftext_sentiment_neu'] = df['title_selftext_sentiment'].map(lambda x: x['neu'])\n",
    "df['title_selftext_sentiment_neg'] = df['title_selftext_sentiment'].map(lambda x: x['neg'])\n",
    "df['title_selftext_sentiment_pos'] = df['title_selftext_sentiment'].map(lambda x: x['pos'])"
   ]
  },
  {
   "cell_type": "code",
   "execution_count": 36,
   "id": "a02219e3-4a2b-4b98-a91e-e4bc68f0b935",
   "metadata": {},
   "outputs": [],
   "source": [
    "#apply sia to text\n",
    "df['text_sentiment'] = df['text'].apply(sia.polarity_scores)\n",
    "\n",
    "#create different sentiment columns by extracting from sentiment (was library)\n",
    "df['text_sentiment_compound'] = df['text_sentiment'].map(lambda x: x['compound'])\n",
    "df['text_sentiment_neu'] = df['text_sentiment'].map(lambda x: x['neu'])\n",
    "df['text_sentiment_neg'] = df['text_sentiment'].map(lambda x: x['neg'])\n",
    "df['text_sentiment_pos'] = df['text_sentiment'].map(lambda x: x['pos'])"
   ]
  },
  {
   "cell_type": "markdown",
   "id": "907fd724-dece-45a5-afc5-198ad8a43752",
   "metadata": {},
   "source": [
    "### engineer character and wordcount columns"
   ]
  },
  {
   "cell_type": "code",
   "execution_count": 37,
   "id": "b1e571b4-dc2c-477a-8416-e1ddf1e2abe6",
   "metadata": {},
   "outputs": [],
   "source": [
    "#how many characters in title\n",
    "df['title_length'] = [len(char) for char in df['title']]\n",
    "#how many characters in title_selftext\n",
    "df['title_selftext_length'] = [len(char) for char in df['title_selftext']]\n",
    "#how many characters in text\n",
    "df['text_length'] = [len(char) for char in df['text']]\n",
    "\n",
    "#how many words in title\n",
    "df['title_word_count'] = [len(word.split(' ')) for word in df['title']]\n",
    "#how many words in title_selftext\n",
    "df['title_selftext_word_count'] = [len(word.split(' ')) for word in df['title_selftext']]\n",
    "#how many words in text\n",
    "df['text_word_count'] = [len(word.split(' ')) for word in df['text']]"
   ]
  },
  {
   "cell_type": "code",
   "execution_count": 38,
   "id": "cfd21c57-aca7-4282-96ea-93468cdd8d8d",
   "metadata": {},
   "outputs": [
    {
     "data": {
      "text/html": [
       "<div>\n",
       "<style scoped>\n",
       "    .dataframe tbody tr th:only-of-type {\n",
       "        vertical-align: middle;\n",
       "    }\n",
       "\n",
       "    .dataframe tbody tr th {\n",
       "        vertical-align: top;\n",
       "    }\n",
       "\n",
       "    .dataframe thead th {\n",
       "        text-align: right;\n",
       "    }\n",
       "</style>\n",
       "<table border=\"1\" class=\"dataframe\">\n",
       "  <thead>\n",
       "    <tr style=\"text-align: right;\">\n",
       "      <th></th>\n",
       "      <th>id</th>\n",
       "      <th>author</th>\n",
       "      <th>title</th>\n",
       "      <th>selftext</th>\n",
       "      <th>subreddit</th>\n",
       "      <th>created_utc</th>\n",
       "      <th>topics</th>\n",
       "      <th>title_selftext</th>\n",
       "      <th>text</th>\n",
       "      <th>sentiment</th>\n",
       "      <th>...</th>\n",
       "      <th>text_sentiment_compound</th>\n",
       "      <th>text_sentiment_neu</th>\n",
       "      <th>text_sentiment_neg</th>\n",
       "      <th>text_sentiment_pos</th>\n",
       "      <th>title_length</th>\n",
       "      <th>title_selftext_length</th>\n",
       "      <th>text_length</th>\n",
       "      <th>title_word_count</th>\n",
       "      <th>title_selftext_word_count</th>\n",
       "      <th>text_word_count</th>\n",
       "    </tr>\n",
       "  </thead>\n",
       "  <tbody>\n",
       "    <tr>\n",
       "      <th>0</th>\n",
       "      <td>t4d8wr</td>\n",
       "      <td>aman1791</td>\n",
       "      <td>First setup! I got reallyyy lucky with marketp...</td>\n",
       "      <td></td>\n",
       "      <td>espresso</td>\n",
       "      <td>1646155687</td>\n",
       "      <td>0</td>\n",
       "      <td>First setup! I got reallyyy lucky with marketp...</td>\n",
       "      <td>First setup! I got reallyyy lucky with marketp...</td>\n",
       "      <td>{'neg': 0.0, 'neu': 0.721, 'pos': 0.279, 'comp...</td>\n",
       "      <td>...</td>\n",
       "      <td>0.4753</td>\n",
       "      <td>0.721</td>\n",
       "      <td>0.000</td>\n",
       "      <td>0.279</td>\n",
       "      <td>67</td>\n",
       "      <td>67</td>\n",
       "      <td>75</td>\n",
       "      <td>10</td>\n",
       "      <td>10</td>\n",
       "      <td>10</td>\n",
       "    </tr>\n",
       "    <tr>\n",
       "      <th>1</th>\n",
       "      <td>t4cy77</td>\n",
       "      <td>rc1024</td>\n",
       "      <td>Made myself a wdt tool with stand.</td>\n",
       "      <td></td>\n",
       "      <td>espresso</td>\n",
       "      <td>1646154916</td>\n",
       "      <td>0</td>\n",
       "      <td>Made myself a wdt tool with stand.</td>\n",
       "      <td>Made myself a wdt tool with stand.rc1024</td>\n",
       "      <td>{'neg': 0.0, 'neu': 1.0, 'pos': 0.0, 'compound...</td>\n",
       "      <td>...</td>\n",
       "      <td>0.0000</td>\n",
       "      <td>1.000</td>\n",
       "      <td>0.000</td>\n",
       "      <td>0.000</td>\n",
       "      <td>34</td>\n",
       "      <td>34</td>\n",
       "      <td>40</td>\n",
       "      <td>7</td>\n",
       "      <td>7</td>\n",
       "      <td>7</td>\n",
       "    </tr>\n",
       "    <tr>\n",
       "      <th>2</th>\n",
       "      <td>t4cx8p</td>\n",
       "      <td>carsononline</td>\n",
       "      <td>Help with Lelit Bianca Paddle Resolution</td>\n",
       "      <td>So, I have a lelit bianca, and it seems as tho...</td>\n",
       "      <td>espresso</td>\n",
       "      <td>1646154847</td>\n",
       "      <td>0</td>\n",
       "      <td>Help with Lelit Bianca Paddle ResolutionSo, I ...</td>\n",
       "      <td>Help with Lelit Bianca Paddle ResolutionSo, I ...</td>\n",
       "      <td>{'neg': 0.0, 'neu': 0.649, 'pos': 0.351, 'comp...</td>\n",
       "      <td>...</td>\n",
       "      <td>0.8410</td>\n",
       "      <td>0.773</td>\n",
       "      <td>0.088</td>\n",
       "      <td>0.139</td>\n",
       "      <td>40</td>\n",
       "      <td>861</td>\n",
       "      <td>873</td>\n",
       "      <td>6</td>\n",
       "      <td>154</td>\n",
       "      <td>154</td>\n",
       "    </tr>\n",
       "    <tr>\n",
       "      <th>3</th>\n",
       "      <td>t4cvtk</td>\n",
       "      <td>carsononline</td>\n",
       "      <td>Lelit Bianca Resolution on Paddle Question</td>\n",
       "      <td></td>\n",
       "      <td>espresso</td>\n",
       "      <td>1646154740</td>\n",
       "      <td>0</td>\n",
       "      <td>Lelit Bianca Resolution on Paddle Question</td>\n",
       "      <td>Lelit Bianca Resolution on Paddle Questioncars...</td>\n",
       "      <td>{'neg': 0.0, 'neu': 1.0, 'pos': 0.0, 'compound...</td>\n",
       "      <td>...</td>\n",
       "      <td>0.0000</td>\n",
       "      <td>1.000</td>\n",
       "      <td>0.000</td>\n",
       "      <td>0.000</td>\n",
       "      <td>42</td>\n",
       "      <td>42</td>\n",
       "      <td>54</td>\n",
       "      <td>6</td>\n",
       "      <td>6</td>\n",
       "      <td>6</td>\n",
       "    </tr>\n",
       "    <tr>\n",
       "      <th>4</th>\n",
       "      <td>t4cuu0</td>\n",
       "      <td>no_lemming</td>\n",
       "      <td>tired of trial and error on espresso bean purc...</td>\n",
       "      <td>Anyone have a suggestion for a bean that can b...</td>\n",
       "      <td>espresso</td>\n",
       "      <td>1646154671</td>\n",
       "      <td>0</td>\n",
       "      <td>tired of trial and error on espresso bean purc...</td>\n",
       "      <td>tired of trial and error on espresso bean purc...</td>\n",
       "      <td>{'neg': 0.444, 'neu': 0.556, 'pos': 0.0, 'comp...</td>\n",
       "      <td>...</td>\n",
       "      <td>0.9325</td>\n",
       "      <td>0.780</td>\n",
       "      <td>0.037</td>\n",
       "      <td>0.183</td>\n",
       "      <td>52</td>\n",
       "      <td>488</td>\n",
       "      <td>498</td>\n",
       "      <td>9</td>\n",
       "      <td>97</td>\n",
       "      <td>97</td>\n",
       "    </tr>\n",
       "  </tbody>\n",
       "</table>\n",
       "<p>5 rows × 30 columns</p>\n",
       "</div>"
      ],
      "text/plain": [
       "       id        author                                              title  \\\n",
       "0  t4d8wr      aman1791  First setup! I got reallyyy lucky with marketp...   \n",
       "1  t4cy77        rc1024                 Made myself a wdt tool with stand.   \n",
       "2  t4cx8p  carsononline           Help with Lelit Bianca Paddle Resolution   \n",
       "3  t4cvtk  carsononline         Lelit Bianca Resolution on Paddle Question   \n",
       "4  t4cuu0    no_lemming  tired of trial and error on espresso bean purc...   \n",
       "\n",
       "                                            selftext subreddit  created_utc  \\\n",
       "0                                                     espresso   1646155687   \n",
       "1                                                     espresso   1646154916   \n",
       "2  So, I have a lelit bianca, and it seems as tho...  espresso   1646154847   \n",
       "3                                                     espresso   1646154740   \n",
       "4  Anyone have a suggestion for a bean that can b...  espresso   1646154671   \n",
       "\n",
       "   topics                                     title_selftext  \\\n",
       "0       0  First setup! I got reallyyy lucky with marketp...   \n",
       "1       0                 Made myself a wdt tool with stand.   \n",
       "2       0  Help with Lelit Bianca Paddle ResolutionSo, I ...   \n",
       "3       0         Lelit Bianca Resolution on Paddle Question   \n",
       "4       0  tired of trial and error on espresso bean purc...   \n",
       "\n",
       "                                                text  \\\n",
       "0  First setup! I got reallyyy lucky with marketp...   \n",
       "1           Made myself a wdt tool with stand.rc1024   \n",
       "2  Help with Lelit Bianca Paddle ResolutionSo, I ...   \n",
       "3  Lelit Bianca Resolution on Paddle Questioncars...   \n",
       "4  tired of trial and error on espresso bean purc...   \n",
       "\n",
       "                                           sentiment  ...  \\\n",
       "0  {'neg': 0.0, 'neu': 0.721, 'pos': 0.279, 'comp...  ...   \n",
       "1  {'neg': 0.0, 'neu': 1.0, 'pos': 0.0, 'compound...  ...   \n",
       "2  {'neg': 0.0, 'neu': 0.649, 'pos': 0.351, 'comp...  ...   \n",
       "3  {'neg': 0.0, 'neu': 1.0, 'pos': 0.0, 'compound...  ...   \n",
       "4  {'neg': 0.444, 'neu': 0.556, 'pos': 0.0, 'comp...  ...   \n",
       "\n",
       "   text_sentiment_compound  text_sentiment_neu  text_sentiment_neg  \\\n",
       "0                   0.4753               0.721               0.000   \n",
       "1                   0.0000               1.000               0.000   \n",
       "2                   0.8410               0.773               0.088   \n",
       "3                   0.0000               1.000               0.000   \n",
       "4                   0.9325               0.780               0.037   \n",
       "\n",
       "   text_sentiment_pos title_length  title_selftext_length  text_length  \\\n",
       "0               0.279           67                     67           75   \n",
       "1               0.000           34                     34           40   \n",
       "2               0.139           40                    861          873   \n",
       "3               0.000           42                     42           54   \n",
       "4               0.183           52                    488          498   \n",
       "\n",
       "   title_word_count  title_selftext_word_count text_word_count  \n",
       "0                10                         10              10  \n",
       "1                 7                          7               7  \n",
       "2                 6                        154             154  \n",
       "3                 6                          6               6  \n",
       "4                 9                         97              97  \n",
       "\n",
       "[5 rows x 30 columns]"
      ]
     },
     "execution_count": 38,
     "metadata": {},
     "output_type": "execute_result"
    }
   ],
   "source": [
    "df.head()"
   ]
  },
  {
   "cell_type": "markdown",
   "id": "c083c950-3d71-446f-b400-d2c95a11198b",
   "metadata": {},
   "source": [
    "#### save to csv"
   ]
  },
  {
   "cell_type": "code",
   "execution_count": 39,
   "id": "72792f92-b784-4b3d-a9dc-21db53358689",
   "metadata": {},
   "outputs": [],
   "source": [
    "#df.to_csv('./data/cleaned_engineered.csv')"
   ]
  },
  {
   "cell_type": "markdown",
   "id": "2ca1231e-0d7a-430a-9df4-2d0453d8a42a",
   "metadata": {},
   "source": [
    "### COUNTVECTORIZE"
   ]
  },
  {
   "cell_type": "markdown",
   "id": "0bdde734-da70-4b03-b13f-aa2d406984a9",
   "metadata": {},
   "source": [
    "Create situation-specific stop words that include pre-packed english stop words as well as a custom list pulled from the most common non-indicative words from the dataframe"
   ]
  },
  {
   "cell_type": "code",
   "execution_count": 40,
   "id": "3192aa6f-fc00-4b6f-9fdd-0217aaa1724c",
   "metadata": {},
   "outputs": [],
   "source": [
    "from sklearn.feature_extraction import text \n",
    "my_additional_stop_words = ['just', 'like', 'www', 'https', 'com', 've', 'know', 'new', 'good', 'got']\n",
    "stop_words = text.ENGLISH_STOP_WORDS.union(my_additional_stop_words)"
   ]
  },
  {
   "cell_type": "code",
   "execution_count": 54,
   "id": "bad6b8e8-43f4-4cd1-84f2-e000c50957ca",
   "metadata": {},
   "outputs": [
    {
     "data": {
      "text/plain": [
       "CountVectorizer(min_df=2,\n",
       "                stop_words=frozenset({'a', 'about', 'above', 'across', 'after',\n",
       "                                      'afterwards', 'again', 'against', 'all',\n",
       "                                      'almost', 'alone', 'along', 'already',\n",
       "                                      'also', 'although', 'always', 'am',\n",
       "                                      'among', 'amongst', 'amoungst', 'amount',\n",
       "                                      'an', 'and', 'another', 'any', 'anyhow',\n",
       "                                      'anyone', 'anything', 'anyway',\n",
       "                                      'anywhere', ...}))"
      ]
     },
     "execution_count": 54,
     "metadata": {},
     "output_type": "execute_result"
    }
   ],
   "source": [
    "from sklearn.feature_extraction.text import CountVectorizer\n",
    "#instantiate\n",
    "cvec = CountVectorizer(min_df=2, stop_words=stop_words)\n",
    "#fit \n",
    "cvec.fit(df['text'])"
   ]
  },
  {
   "cell_type": "code",
   "execution_count": 55,
   "id": "b0fa503e-0cc1-4942-9022-30b2b348a41d",
   "metadata": {},
   "outputs": [],
   "source": [
    "#transform and save\n",
    "csr = cvec.transform(df['text'])\n",
    "#convert to df, desify, and save using get_feature_names for sorting and use later\n",
    "text_cvec = pd.DataFrame(csr.todense(), columns=cvec.get_feature_names())"
   ]
  },
  {
   "cell_type": "code",
   "execution_count": 56,
   "id": "683e94c2-28ba-4451-8708-10a19c1dcb85",
   "metadata": {},
   "outputs": [
    {
     "data": {
      "text/plain": [
       "Index(['espresso', 'machine', 'coffee', 'beer', 'grinder', 'amp', 'shot',\n",
       "       'time', 'water', 'really', 'grind', 'beans', 'don', 'looking',\n",
       "       'brewing'],\n",
       "      dtype='object')"
      ]
     },
     "execution_count": 56,
     "metadata": {},
     "output_type": "execute_result"
    }
   ],
   "source": [
    "#sum by column, sort descending, give list\n",
    "text_cvec.sum(axis=0).sort_values(ascending=False)[:15].index"
   ]
  },
  {
   "cell_type": "code",
   "execution_count": 57,
   "id": "5154117b-c570-464d-87da-8152d5b1b0aa",
   "metadata": {},
   "outputs": [
    {
     "data": {
      "image/png": "[encoded data removed]",
      "text/plain": [
       "<Figure size 432x288 with 1 Axes>"
      ]
     },
     "metadata": {
      "needs_background": "light"
     },
     "output_type": "display_data"
    }
   ],
   "source": [
    "text_cvec.sum(axis=0).sort_values(ascending=True).tail(25).plot(kind='barh', cmap='afmhot');"
   ]
  },
  {
   "cell_type": "code",
   "execution_count": 58,
   "id": "3aeb27b7-b796-4329-b4cc-d8d3726542f8",
   "metadata": {},
   "outputs": [],
   "source": [
    "#concat cvec and df \n",
    "df1 = text_cvec\n",
    "df2 = df['topics']\n",
    "df_new = pd.concat([df1, df2], axis=1, join='inner')"
   ]
  },
  {
   "cell_type": "code",
   "execution_count": 59,
   "id": "96b549b2-36dc-4549-97dd-7287f2d14524",
   "metadata": {},
   "outputs": [],
   "source": [
    "#concat cvec and df \n",
    "df1 = text_cvec\n",
    "df2 = df['topics']\n",
    "df_new = pd.concat([df1, df2], axis=1, join='inner')"
   ]
  },
  {
   "cell_type": "markdown",
   "id": "8d738ad4-2b2f-47a1-ac4f-a136f34d230d",
   "metadata": {},
   "source": [
    "save df_new to csv "
   ]
  },
  {
   "cell_type": "code",
   "execution_count": 60,
   "id": "d785b21a-7c2c-4ef2-9e24-d84878224860",
   "metadata": {
    "tags": []
   },
   "outputs": [
    {
     "data": {
      "text/plain": [
       "(4199, 5554)"
      ]
     },
     "execution_count": 60,
     "metadata": {},
     "output_type": "execute_result"
    }
   ],
   "source": [
    "df_new.shape\n",
    "#full df-new = 4199, 14507"
   ]
  },
  {
   "cell_type": "raw",
   "id": "a805d28e-1690-4e91-a367-4bb21146e407",
   "metadata": {
    "tags": []
   },
   "source": [
    "df_new = df_new.drop(df_new.iloc[:, 1:100], axis=1)\n",
    "df_new.shape"
   ]
  },
  {
   "cell_type": "code",
   "execution_count": 61,
   "id": "f369b55e-5f7b-4b25-bed3-0616deafd860",
   "metadata": {},
   "outputs": [
    {
     "data": {
      "text/html": [
       "<div>\n",
       "<style scoped>\n",
       "    .dataframe tbody tr th:only-of-type {\n",
       "        vertical-align: middle;\n",
       "    }\n",
       "\n",
       "    .dataframe tbody tr th {\n",
       "        vertical-align: top;\n",
       "    }\n",
       "\n",
       "    .dataframe thead th {\n",
       "        text-align: right;\n",
       "    }\n",
       "</style>\n",
       "<table border=\"1\" class=\"dataframe\">\n",
       "  <thead>\n",
       "    <tr style=\"text-align: right;\">\n",
       "      <th></th>\n",
       "      <th>00</th>\n",
       "      <th>000</th>\n",
       "      <th>00chill00chill00</th>\n",
       "      <th>01</th>\n",
       "      <th>02</th>\n",
       "      <th>08</th>\n",
       "      <th>10</th>\n",
       "      <th>100</th>\n",
       "      <th>1000</th>\n",
       "      <th>100ml</th>\n",
       "      <th>...</th>\n",
       "      <th>zero</th>\n",
       "      <th>zeros</th>\n",
       "      <th>zone</th>\n",
       "      <th>zookeepergame109</th>\n",
       "      <th>øl</th>\n",
       "      <th>بالمزاحميةamaan</th>\n",
       "      <th>تنظيف</th>\n",
       "      <th>شركة</th>\n",
       "      <th>مكيفات</th>\n",
       "      <th>topics</th>\n",
       "    </tr>\n",
       "  </thead>\n",
       "  <tbody>\n",
       "    <tr>\n",
       "      <th>0</th>\n",
       "      <td>0</td>\n",
       "      <td>0</td>\n",
       "      <td>0</td>\n",
       "      <td>0</td>\n",
       "      <td>0</td>\n",
       "      <td>0</td>\n",
       "      <td>0</td>\n",
       "      <td>0</td>\n",
       "      <td>0</td>\n",
       "      <td>0</td>\n",
       "      <td>...</td>\n",
       "      <td>0</td>\n",
       "      <td>0</td>\n",
       "      <td>0</td>\n",
       "      <td>0</td>\n",
       "      <td>0</td>\n",
       "      <td>0</td>\n",
       "      <td>0</td>\n",
       "      <td>0</td>\n",
       "      <td>0</td>\n",
       "      <td>0</td>\n",
       "    </tr>\n",
       "    <tr>\n",
       "      <th>1</th>\n",
       "      <td>0</td>\n",
       "      <td>0</td>\n",
       "      <td>0</td>\n",
       "      <td>0</td>\n",
       "      <td>0</td>\n",
       "      <td>0</td>\n",
       "      <td>0</td>\n",
       "      <td>0</td>\n",
       "      <td>0</td>\n",
       "      <td>0</td>\n",
       "      <td>...</td>\n",
       "      <td>0</td>\n",
       "      <td>0</td>\n",
       "      <td>0</td>\n",
       "      <td>0</td>\n",
       "      <td>0</td>\n",
       "      <td>0</td>\n",
       "      <td>0</td>\n",
       "      <td>0</td>\n",
       "      <td>0</td>\n",
       "      <td>0</td>\n",
       "    </tr>\n",
       "    <tr>\n",
       "      <th>2</th>\n",
       "      <td>0</td>\n",
       "      <td>0</td>\n",
       "      <td>0</td>\n",
       "      <td>0</td>\n",
       "      <td>0</td>\n",
       "      <td>0</td>\n",
       "      <td>1</td>\n",
       "      <td>0</td>\n",
       "      <td>0</td>\n",
       "      <td>0</td>\n",
       "      <td>...</td>\n",
       "      <td>0</td>\n",
       "      <td>0</td>\n",
       "      <td>0</td>\n",
       "      <td>0</td>\n",
       "      <td>0</td>\n",
       "      <td>0</td>\n",
       "      <td>0</td>\n",
       "      <td>0</td>\n",
       "      <td>0</td>\n",
       "      <td>0</td>\n",
       "    </tr>\n",
       "    <tr>\n",
       "      <th>3</th>\n",
       "      <td>0</td>\n",
       "      <td>0</td>\n",
       "      <td>0</td>\n",
       "      <td>0</td>\n",
       "      <td>0</td>\n",
       "      <td>0</td>\n",
       "      <td>0</td>\n",
       "      <td>0</td>\n",
       "      <td>0</td>\n",
       "      <td>0</td>\n",
       "      <td>...</td>\n",
       "      <td>0</td>\n",
       "      <td>0</td>\n",
       "      <td>0</td>\n",
       "      <td>0</td>\n",
       "      <td>0</td>\n",
       "      <td>0</td>\n",
       "      <td>0</td>\n",
       "      <td>0</td>\n",
       "      <td>0</td>\n",
       "      <td>0</td>\n",
       "    </tr>\n",
       "    <tr>\n",
       "      <th>4</th>\n",
       "      <td>0</td>\n",
       "      <td>0</td>\n",
       "      <td>0</td>\n",
       "      <td>0</td>\n",
       "      <td>0</td>\n",
       "      <td>0</td>\n",
       "      <td>0</td>\n",
       "      <td>0</td>\n",
       "      <td>0</td>\n",
       "      <td>0</td>\n",
       "      <td>...</td>\n",
       "      <td>0</td>\n",
       "      <td>0</td>\n",
       "      <td>0</td>\n",
       "      <td>0</td>\n",
       "      <td>0</td>\n",
       "      <td>0</td>\n",
       "      <td>0</td>\n",
       "      <td>0</td>\n",
       "      <td>0</td>\n",
       "      <td>0</td>\n",
       "    </tr>\n",
       "  </tbody>\n",
       "</table>\n",
       "<p>5 rows × 5554 columns</p>\n",
       "</div>"
      ],
      "text/plain": [
       "   00  000  00chill00chill00  01  02  08  10  100  1000  100ml  ...  zero  \\\n",
       "0   0    0                 0   0   0   0   0    0     0      0  ...     0   \n",
       "1   0    0                 0   0   0   0   0    0     0      0  ...     0   \n",
       "2   0    0                 0   0   0   0   1    0     0      0  ...     0   \n",
       "3   0    0                 0   0   0   0   0    0     0      0  ...     0   \n",
       "4   0    0                 0   0   0   0   0    0     0      0  ...     0   \n",
       "\n",
       "   zeros  zone  zookeepergame109  øl  بالمزاحميةamaan  تنظيف  شركة  مكيفات  \\\n",
       "0      0     0                 0   0                0      0     0       0   \n",
       "1      0     0                 0   0                0      0     0       0   \n",
       "2      0     0                 0   0                0      0     0       0   \n",
       "3      0     0                 0   0                0      0     0       0   \n",
       "4      0     0                 0   0                0      0     0       0   \n",
       "\n",
       "   topics  \n",
       "0       0  \n",
       "1       0  \n",
       "2       0  \n",
       "3       0  \n",
       "4       0  \n",
       "\n",
       "[5 rows x 5554 columns]"
      ]
     },
     "execution_count": 61,
     "metadata": {},
     "output_type": "execute_result"
    }
   ],
   "source": [
    "df_new.head()"
   ]
  },
  {
   "cell_type": "code",
   "execution_count": 62,
   "id": "2778a0c7-d55e-41d1-b961-1e4daaf2a601",
   "metadata": {},
   "outputs": [],
   "source": [
    "df_new.to_csv('./data/cvec.csv')"
   ]
  },
  {
   "cell_type": "code",
   "execution_count": null,
   "id": "9d6de929-1c9e-46ee-968c-f0934785f218",
   "metadata": {},
   "outputs": [],
   "source": [
    "#learned a lesson when making this file. Had not adjusted the min_df and it was huge\n",
    "#needed to whittle df_new down to 4199, 12457"
   ]
  }
 ],
 "metadata": {
  "kernelspec": {
   "display_name": "Python 3 (ipykernel)",
   "language": "python",
   "name": "python3"
  },
  "language_info": {
   "codemirror_mode": {
    "name": "ipython",
    "version": 3
   },
   "file_extension": ".py",
   "mimetype": "text/x-python",
   "name": "python",
   "nbconvert_exporter": "python",
   "pygments_lexer": "ipython3",
   "version": "3.9.7"
  }
 },
 "nbformat": 4,
 "nbformat_minor": 5
}
