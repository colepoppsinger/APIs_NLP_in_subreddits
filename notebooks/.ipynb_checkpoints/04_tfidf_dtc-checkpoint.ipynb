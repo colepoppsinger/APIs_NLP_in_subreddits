{
 "cells": [
  {
   "cell_type": "markdown",
   "id": "130db4e7-930f-457f-a818-b07c994ca4b9",
   "metadata": {
    "tags": []
   },
   "source": [
    "### Tfidf + DecisionTree\n",
    "model with highest precision on predicting CraftBeer, but lousy otherwise"
   ]
  },
  {
   "cell_type": "code",
   "execution_count": 1,
   "id": "8c759d88-0d56-4111-8275-e3677fb3936b",
   "metadata": {},
   "outputs": [],
   "source": [
    "import pandas as pd\n",
    "import numpy as np\n",
    "import seaborn as sns\n",
    "import matplotlib.pyplot as plt\n",
    "\n",
    "from sklearn.linear_model import LogisticRegression \n",
    "from sklearn.feature_extraction.text import CountVectorizer, TfidfVectorizer\n",
    "from sklearn.pipeline import Pipeline\n",
    "from sklearn.model_selection import train_test_split, GridSearchCV\n",
    "from sklearn.metrics import plot_confusion_matrix\n",
    "from nltk.sentiment.vader import SentimentIntensityAnalyzer\n",
    "from sklearn.neighbors import KNeighborsClassifier\n",
    "\n",
    "from sklearn.tree import DecisionTreeClassifier"
   ]
  },
  {
   "cell_type": "code",
   "execution_count": 2,
   "id": "3e06c175-6770-4ace-a8c5-6623acd6ae1b",
   "metadata": {},
   "outputs": [],
   "source": [
    "df = pd.read_csv('./data/cleaned_engineered.csv')\n",
    "df.drop(columns='Unnamed: 0', inplace=True)"
   ]
  },
  {
   "cell_type": "code",
   "execution_count": 3,
   "id": "999b4876-38b1-4bec-8fee-a49e6ec60332",
   "metadata": {},
   "outputs": [
    {
     "data": {
      "text/plain": [
       "0    0.500119\n",
       "1    0.499881\n",
       "Name: topics, dtype: float64"
      ]
     },
     "execution_count": 3,
     "metadata": {},
     "output_type": "execute_result"
    }
   ],
   "source": [
    "# set X and y\n",
    "X = df['title_selftext']\n",
    "y = df['topics']\n",
    "#baseline\n",
    "y.value_counts(normalize=True)"
   ]
  },
  {
   "cell_type": "code",
   "execution_count": 4,
   "id": "014ba6f1-90ed-4f9a-a657-07c172cd83a4",
   "metadata": {},
   "outputs": [],
   "source": [
    "# train_test\n",
    "X_train, X_test, y_train, y_test = train_test_split(X, y, random_state=42)"
   ]
  },
  {
   "cell_type": "code",
   "execution_count": 5,
   "id": "4e6a3322-5765-44fb-b46a-63d1faaad3b7",
   "metadata": {},
   "outputs": [],
   "source": [
    "pipe = Pipeline([\n",
    "    ('tfid', TfidfVectorizer()),\n",
    "    ('dt', DecisionTreeClassifier())\n",
    "])"
   ]
  },
  {
   "cell_type": "code",
   "execution_count": 6,
   "id": "849105c8-be91-4490-ac76-ca4c07766659",
   "metadata": {},
   "outputs": [
    {
     "name": "stdout",
     "output_type": "stream",
     "text": [
      "Fitting 5 folds for each of 64 candidates, totalling 320 fits\n",
      "0.7357857016680546\n"
     ]
    },
    {
     "data": {
      "text/plain": [
       "{'dt__ccp_alpha': 0.01,\n",
       " 'dt__class_weight': None,\n",
       " 'dt__criterion': 'gini',\n",
       " 'dt__max_depth': 10,\n",
       " 'dt__max_features': None,\n",
       " 'dt__max_leaf_nodes': None,\n",
       " 'dt__min_impurity_decrease': 0.0,\n",
       " 'dt__min_impurity_split': None,\n",
       " 'dt__min_samples_leaf': 1,\n",
       " 'dt__min_samples_split': 2,\n",
       " 'dt__min_weight_fraction_leaf': 0.0,\n",
       " 'dt__random_state': 42,\n",
       " 'dt__splitter': 'best',\n",
       " 'tfid__binary': True,\n",
       " 'tfid__max_df': 1.0,\n",
       " 'tfid__min_df': 1,\n",
       " 'tfid__ngram_range': (1, 2),\n",
       " 'tfid__stop_words': 'english'}"
      ]
     },
     "execution_count": 6,
     "metadata": {},
     "output_type": "execute_result"
    }
   ],
   "source": [
    "params = {\n",
    "     'tfid__stop_words': [None, 'english'],\n",
    "     'tfid__min_df': [1,2,3,4],\n",
    "     'tfid__max_df': [1.0, .75, .5, .25],\n",
    "     'tfid__binary': [True, False],\n",
    "#     'vect__max_features': [None, 4000, 5000],\n",
    "     'tfid__ngram_range': [(1,2)],\n",
    "#    'lr__penalty': ['l1', 'l2', 'elasticnet', 'none'],\n",
    "     'dt__max_depth': [10], \n",
    "     'dt__min_samples_split': [2], \n",
    "     'dt__min_samples_leaf': [1], \n",
    "     'dt__ccp_alpha': [0.01],\n",
    "     'dt__class_weight': [None],\n",
    "     'dt__criterion': ['gini'],\n",
    "     'dt__max_features': [None],\n",
    "     'dt__max_leaf_nodes': [None],\n",
    "     'dt__min_impurity_decrease': [0.0],\n",
    "     'dt__min_impurity_split': [None],\n",
    "     'dt__min_weight_fraction_leaf': [0.0],\n",
    "     'dt__random_state': [42],\n",
    "     'dt__splitter': ['best'],\n",
    "}\n",
    "\n",
    "gs = GridSearchCV(pipe,\n",
    "                  param_grid=params,\n",
    "                  verbose=1)\n",
    "gs.fit(X_train, y_train)\n",
    "print(gs.best_score_) \n",
    "gs.best_params_"
   ]
  },
  {
   "cell_type": "code",
   "execution_count": 7,
   "id": "9cce8688-7e09-4b33-980b-887691b63a8f",
   "metadata": {},
   "outputs": [
    {
     "data": {
      "image/png": "[encoded data removed]",
      "text/plain": [
       "<Figure size 432x288 with 2 Axes>"
      ]
     },
     "metadata": {
      "needs_background": "light"
     },
     "output_type": "display_data"
    }
   ],
   "source": [
    "plot_confusion_matrix(gs, X_test, y_test, display_labels=['esp', 'beer']);"
   ]
  },
  {
   "cell_type": "markdown",
   "id": "85aea2c4-73a7-48e0-85a3-75ea0062a6d4",
   "metadata": {},
   "source": [
    " - 265 true positive (correct espresso)\n",
    " - 281 false positive (incorrect espresso)\n",
    " - 6 false negative (incorrect beer)\n",
    " - 498 true negative (correct beer)\n",
    " \n",
    " \n",
    " Was VERY good at predicting CraftBeer, very bad at predicting espresso"
   ]
  },
  {
   "cell_type": "code",
   "execution_count": 8,
   "id": "ba2a6c4e-52a3-44a7-95c8-9feeb79ed772",
   "metadata": {},
   "outputs": [
    {
     "name": "stdout",
     "output_type": "stream",
     "text": [
      "              precision    recall  f1-score   support\n",
      "\n",
      "           0       0.98      0.49      0.65       546\n",
      "           1       0.64      0.99      0.78       504\n",
      "\n",
      "    accuracy                           0.73      1050\n",
      "   macro avg       0.81      0.74      0.71      1050\n",
      "weighted avg       0.82      0.73      0.71      1050\n",
      "\n"
     ]
    }
   ],
   "source": [
    "pred = gs.predict(X_test)\n",
    "from sklearn.metrics import classification_report\n",
    "print(classification_report(y_test, pred))"
   ]
  },
  {
   "cell_type": "code",
   "execution_count": null,
   "id": "86e48819-c365-4255-969e-b5a1652a0687",
   "metadata": {},
   "outputs": [],
   "source": []
  }
 ],
 "metadata": {
  "kernelspec": {
   "display_name": "Python 3 (ipykernel)",
   "language": "python",
   "name": "python3"
  },
  "language_info": {
   "codemirror_mode": {
    "name": "ipython",
    "version": 3
   },
   "file_extension": ".py",
   "mimetype": "text/x-python",
   "name": "python",
   "nbconvert_exporter": "python",
   "pygments_lexer": "ipython3",
   "version": "3.9.7"
  }
 },
 "nbformat": 4,
 "nbformat_minor": 5
}
