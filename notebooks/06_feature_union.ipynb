{
 "cells": [
  {
   "cell_type": "markdown",
   "id": "50f2fdce-248d-4c4b-b2ad-52f0b27b2af0",
   "metadata": {},
   "source": [
    "### Not an improvement over other models, used FeatureUnion"
   ]
  },
  {
   "cell_type": "code",
   "execution_count": 1,
   "id": "8c759d88-0d56-4111-8275-e3677fb3936b",
   "metadata": {},
   "outputs": [],
   "source": [
    "import pandas as pd\n",
    "import numpy as np\n",
    "import seaborn as sns\n",
    "import matplotlib.pyplot as plt\n",
    "\n",
    "from sklearn.linear_model import LogisticRegression \n",
    "from sklearn.feature_extraction.text import CountVectorizer, TfidfVectorizer\n",
    "from sklearn.pipeline import Pipeline\n",
    "from sklearn.model_selection import train_test_split, GridSearchCV\n",
    "from sklearn.metrics import plot_confusion_matrix\n",
    "from nltk.sentiment.vader import SentimentIntensityAnalyzer\n",
    "from sklearn.neighbors import KNeighborsClassifier\n",
    "\n"
   ]
  },
  {
   "cell_type": "code",
   "execution_count": 2,
   "id": "3e06c175-6770-4ace-a8c5-6623acd6ae1b",
   "metadata": {},
   "outputs": [],
   "source": [
    "df = pd.read_csv('./data/cleaned_engineered.csv')\n",
    "df.drop(columns='Unnamed: 0', inplace=True)"
   ]
  },
  {
   "cell_type": "code",
   "execution_count": 3,
   "id": "999b4876-38b1-4bec-8fee-a49e6ec60332",
   "metadata": {},
   "outputs": [
    {
     "data": {
      "text/plain": [
       "0    0.500119\n",
       "1    0.499881\n",
       "Name: topics, dtype: float64"
      ]
     },
     "execution_count": 3,
     "metadata": {},
     "output_type": "execute_result"
    }
   ],
   "source": [
    "# set X and y\n",
    "X = df.drop(columns=['subreddit', 'created_utc'])\n",
    "y = df['topics']\n",
    "#baseline\n",
    "y.value_counts(normalize=True)"
   ]
  },
  {
   "cell_type": "code",
   "execution_count": 4,
   "id": "014ba6f1-90ed-4f9a-a657-07c172cd83a4",
   "metadata": {},
   "outputs": [],
   "source": [
    "# train_test\n",
    "X_train, X_test, y_train, y_test = train_test_split(X, y, random_state=42)"
   ]
  },
  {
   "cell_type": "code",
   "execution_count": 5,
   "id": "bce698e0-7e5e-4228-a2bf-c67a63cc3e9a",
   "metadata": {},
   "outputs": [],
   "source": [
    "from sklearn.preprocessing import FunctionTransformer\n",
    "from sklearn.pipeline import FeatureUnion\n",
    "\n",
    "def get_title(df):\n",
    "    return df['title']\n",
    "\n",
    "get_title_transformer = FunctionTransformer(get_title, validate=False)"
   ]
  },
  {
   "cell_type": "code",
   "execution_count": 6,
   "id": "5525aad4-c898-4675-b5b9-9e2ea81d8881",
   "metadata": {},
   "outputs": [],
   "source": [
    "def get_other_columns(df):\n",
    "    return df[['sentiment_neg', 'sentiment_compound']]\n",
    "\n",
    "get_other_columns_transformer = FunctionTransformer(get_other_columns, validate=False)"
   ]
  },
  {
   "cell_type": "code",
   "execution_count": 7,
   "id": "8848dca4-1955-49c9-b898-02140ef3adc0",
   "metadata": {},
   "outputs": [],
   "source": [
    "inner_pipe = Pipeline([\n",
    "    ('title_transform', get_title_transformer),\n",
    "    ('vect', CountVectorizer())\n",
    "])"
   ]
  },
  {
   "cell_type": "code",
   "execution_count": 8,
   "id": "4e6a3322-5765-44fb-b46a-63d1faaad3b7",
   "metadata": {},
   "outputs": [],
   "source": [
    "outer_pipe = Pipeline([\n",
    "    ('feats', FeatureUnion([\n",
    "        ('vect_pipe', inner_pipe),\n",
    "        ('other_cols', get_other_columns_transformer)\n",
    "    ])),\n",
    "    ('lr', LogisticRegression())\n",
    "])"
   ]
  },
  {
   "cell_type": "code",
   "execution_count": 9,
   "id": "849105c8-be91-4490-ac76-ca4c07766659",
   "metadata": {},
   "outputs": [
    {
     "name": "stdout",
     "output_type": "stream",
     "text": [
      "Fitting 5 folds for each of 192 candidates, totalling 960 fits\n",
      "0.9158467711408887\n"
     ]
    },
    {
     "data": {
      "text/plain": [
       "{'feats__vect_pipe__vect__binary': True,\n",
       " 'feats__vect_pipe__vect__max_df': 1.0,\n",
       " 'feats__vect_pipe__vect__max_features': 4000,\n",
       " 'feats__vect_pipe__vect__min_df': 1,\n",
       " 'feats__vect_pipe__vect__stop_words': 'english'}"
      ]
     },
     "execution_count": 9,
     "metadata": {},
     "output_type": "execute_result"
    }
   ],
   "source": [
    "params = {\n",
    "     'feats__vect_pipe__vect__stop_words': [None, 'english'],\n",
    "     'feats__vect_pipe__vect__min_df': [1,2,3,4],\n",
    "     'feats__vect_pipe__vect__max_df': [1.0, .75, .5, .25],\n",
    "     'feats__vect_pipe__vect__binary': [True, False],\n",
    "     'feats__vect_pipe__vect__max_features': [None, 4000, 5000],\n",
    "#      'tfid__ngram_range': [(1,2)],\n",
    "# #    'lr__penalty': ['l1', 'l2', 'elasticnet', 'none'],\n",
    "#      'dt__max_depth': [10], \n",
    "#      'dt__min_samples_split': [2], \n",
    "#      'dt__min_samples_leaf': [1], \n",
    "#      'dt__ccp_alpha': [0.01],\n",
    "#      'dt__class_weight': None,\n",
    "#      'dt__criterion': 'gini',\n",
    "#      'dt__max_features': None,\n",
    "#      'dt__max_leaf_nodes': None,\n",
    "#      'dt__min_impurity_decrease': 0.0,\n",
    "#      'dt__min_impurity_split': None,\n",
    "#      'dt__min_weight_fraction_leaf': 0.0,\n",
    "#      'dt__random_state': [42],\n",
    "#      'dt__splitter': 'best'\n",
    "}\n",
    "\n",
    "gs = GridSearchCV(outer_pipe,\n",
    "                  param_grid=params,\n",
    "                  verbose=1)\n",
    "gs.fit(X_train, y_train)\n",
    "print(gs.best_score_) # <- cross val score FTW\n",
    "gs.best_params_"
   ]
  },
  {
   "cell_type": "code",
   "execution_count": 10,
   "id": "9cce8688-7e09-4b33-980b-887691b63a8f",
   "metadata": {},
   "outputs": [
    {
     "data": {
      "image/png": "[encoded data removed]",
      "text/plain": [
       "<Figure size 432x288 with 2 Axes>"
      ]
     },
     "metadata": {
      "needs_background": "light"
     },
     "output_type": "display_data"
    }
   ],
   "source": [
    "plot_confusion_matrix(gs, X_test, y_test, display_labels=['esp', 'beer']);"
   ]
  },
  {
   "cell_type": "code",
   "execution_count": 11,
   "id": "ba2a6c4e-52a3-44a7-95c8-9feeb79ed772",
   "metadata": {},
   "outputs": [
    {
     "data": {
      "text/plain": [
       "0.984757065735154"
      ]
     },
     "execution_count": 11,
     "metadata": {},
     "output_type": "execute_result"
    }
   ],
   "source": [
    "gs.score(X_train, y_train)"
   ]
  },
  {
   "cell_type": "code",
   "execution_count": 12,
   "id": "94fac477-1672-450f-b09d-853648066208",
   "metadata": {},
   "outputs": [
    {
     "data": {
      "text/plain": [
       "0.9133333333333333"
      ]
     },
     "execution_count": 12,
     "metadata": {},
     "output_type": "execute_result"
    }
   ],
   "source": [
    "gs.score(X_test, y_test)"
   ]
  },
  {
   "cell_type": "code",
   "execution_count": 13,
   "id": "8c79b759-0936-4ca6-965f-e22ff35a2786",
   "metadata": {},
   "outputs": [
    {
     "name": "stdout",
     "output_type": "stream",
     "text": [
      "              precision    recall  f1-score   support\n",
      "\n",
      "           0       0.93      0.90      0.92       546\n",
      "           1       0.90      0.92      0.91       504\n",
      "\n",
      "    accuracy                           0.91      1050\n",
      "   macro avg       0.91      0.91      0.91      1050\n",
      "weighted avg       0.91      0.91      0.91      1050\n",
      "\n"
     ]
    }
   ],
   "source": [
    "pred = gs.predict(X_test)\n",
    "from sklearn.metrics import classification_report\n",
    "print(classification_report(y_test, pred))"
   ]
  },
  {
   "cell_type": "markdown",
   "id": "57b7b69f-7fb1-4f0f-99ba-ae4c08b67862",
   "metadata": {},
   "source": [
    "This model performs at roughly the same rate as others."
   ]
  }
 ],
 "metadata": {
  "kernelspec": {
   "display_name": "Python 3 (ipykernel)",
   "language": "python",
   "name": "python3"
  },
  "language_info": {
   "codemirror_mode": {
    "name": "ipython",
    "version": 3
   },
   "file_extension": ".py",
   "mimetype": "text/x-python",
   "name": "python",
   "nbconvert_exporter": "python",
   "pygments_lexer": "ipython3",
   "version": "3.9.7"
  }
 },
 "nbformat": 4,
 "nbformat_minor": 5
}
