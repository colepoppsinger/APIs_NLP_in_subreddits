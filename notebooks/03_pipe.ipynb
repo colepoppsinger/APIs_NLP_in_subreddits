{
 "cells": [
  {
   "cell_type": "markdown",
   "id": "14c3195a-0de3-4e6a-b6d2-ef908afa5f43",
   "metadata": {},
   "source": [
    "# Testing all text levels on same model style to find most successful\n",
    " - title\n",
    " - title + selftext\n",
    " - title + selftext + author"
   ]
  },
  {
   "cell_type": "code",
   "execution_count": 1,
   "id": "8c759d88-0d56-4111-8275-e3677fb3936b",
   "metadata": {},
   "outputs": [],
   "source": [
    "import pandas as pd\n",
    "import numpy as np\n",
    "import seaborn as sns\n",
    "import matplotlib.pyplot as plt\n",
    "\n",
    "from sklearn.linear_model import LogisticRegression\n",
    "from sklearn.feature_extraction.text import CountVectorizer, TfidfVectorizer\n",
    "from sklearn.pipeline import Pipeline\n",
    "from sklearn.model_selection import train_test_split, GridSearchCV\n",
    "from sklearn.metrics import plot_confusion_matrix\n"
   ]
  },
  {
   "cell_type": "code",
   "execution_count": 2,
   "id": "3e06c175-6770-4ace-a8c5-6623acd6ae1b",
   "metadata": {},
   "outputs": [],
   "source": [
    "df = pd.read_csv('./data/cleaned_engineered.csv')\n",
    "df.drop(columns='Unnamed: 0', inplace=True)"
   ]
  },
  {
   "cell_type": "markdown",
   "id": "a9bfa179-f062-4b37-a9b7-257219cbecf6",
   "metadata": {},
   "source": [
    "#### create list of custom stop words to tune model"
   ]
  },
  {
   "cell_type": "code",
   "execution_count": 3,
   "id": "e68ce191-6ce0-49ac-8d88-9c6bad9cd77f",
   "metadata": {
    "tags": []
   },
   "outputs": [],
   "source": [
    "from sklearn.feature_extraction import text \n",
    "my_additional_stop_words = ['just', 'like', 'www', 'https', 'com', 've', 'know', 'new', 'good', 'got']\n",
    "stop_words = text.ENGLISH_STOP_WORDS.union(my_additional_stop_words)"
   ]
  },
  {
   "cell_type": "markdown",
   "id": "3bf2e59b-dfdf-40bc-9a49-b87e6d264729",
   "metadata": {},
   "source": [
    "### MODEL - CountVectorizer + LogisticRegression in Pipeline"
   ]
  },
  {
   "cell_type": "markdown",
   "id": "b0214c84-039c-4473-a523-a2ccc1fbf74e",
   "metadata": {},
   "source": [
    "This model was trained on the title column only"
   ]
  },
  {
   "cell_type": "code",
   "execution_count": 4,
   "id": "999b4876-38b1-4bec-8fee-a49e6ec60332",
   "metadata": {},
   "outputs": [
    {
     "data": {
      "text/plain": [
       "0    0.500119\n",
       "1    0.499881\n",
       "Name: topics, dtype: float64"
      ]
     },
     "execution_count": 4,
     "metadata": {},
     "output_type": "execute_result"
    }
   ],
   "source": [
    "# set X and y\n",
    "X = df['title']\n",
    "y = df['topics']\n",
    "#baseline\n",
    "y.value_counts(normalize=True)"
   ]
  },
  {
   "cell_type": "code",
   "execution_count": 5,
   "id": "014ba6f1-90ed-4f9a-a657-07c172cd83a4",
   "metadata": {},
   "outputs": [],
   "source": [
    "# train_test\n",
    "X_train, X_test, y_train, y_test = train_test_split(X, y, random_state=42)"
   ]
  },
  {
   "cell_type": "code",
   "execution_count": 6,
   "id": "4e6a3322-5765-44fb-b46a-63d1faaad3b7",
   "metadata": {},
   "outputs": [],
   "source": [
    "pipe = Pipeline([\n",
    "    ('vect', CountVectorizer()),\n",
    "    ('lr', LogisticRegression())\n",
    "])"
   ]
  },
  {
   "cell_type": "markdown",
   "id": "d1911dfc-4397-45b6-99f5-805b3630a03e",
   "metadata": {},
   "source": [
    " used parameters below to tune model then saved the best fit"
   ]
  },
  {
   "cell_type": "code",
   "execution_count": 7,
   "id": "849105c8-be91-4490-ac76-ca4c07766659",
   "metadata": {},
   "outputs": [
    {
     "name": "stdout",
     "output_type": "stream",
     "text": [
      "Fitting 5 folds for each of 1 candidates, totalling 5 fits\n",
      "0.9199798117445177\n"
     ]
    },
    {
     "data": {
      "text/plain": [
       "{'lr__penalty': 'l2',\n",
       " 'vect__binary': False,\n",
       " 'vect__max_df': 1.0,\n",
       " 'vect__max_features': None,\n",
       " 'vect__min_df': 1,\n",
       " 'vect__ngram_range': (1, 2),\n",
       " 'vect__stop_words': 'english'}"
      ]
     },
     "execution_count": 7,
     "metadata": {},
     "output_type": "execute_result"
    }
   ],
   "source": [
    "params = {\n",
    "    'lr__penalty': ['l2'],\n",
    "    'vect__binary': [False],\n",
    "    'vect__max_df': [1.0],\n",
    "    'vect__max_features': [None],\n",
    "    'vect__min_df': [1],\n",
    "    'vect__ngram_range': [(1, 2)],\n",
    "    'vect__stop_words': ['english'],\n",
    "}\n",
    "#used parameters below to tune model then saved the best fit    \n",
    "#     'vect__stop_words': [None, 'english', stop_words],\n",
    "#     'vect__min_df': [1,2,3,4],\n",
    "#     'vect__max_df': [1.0, .75, .5, .25],\n",
    "#     'vect__binary': [True, False],\n",
    "#     'vect__tokenizer': [(r'A-Z')]\n",
    "#     'vect__max_features': [None, 4000, 5000],\n",
    "#     'vect__ngram_range': [(1,1),(1,2)],\n",
    "#     'lr__penalty': ['l1', 'l2', 'none']\n",
    "\n",
    "\n",
    "gs = GridSearchCV(pipe,\n",
    "                  param_grid=params,\n",
    "                  verbose=1)\n",
    "gs.fit(X_train, y_train)\n",
    "print(gs.best_score_) \n",
    "gs.best_params_"
   ]
  },
  {
   "cell_type": "code",
   "execution_count": 8,
   "id": "9cce8688-7e09-4b33-980b-887691b63a8f",
   "metadata": {},
   "outputs": [
    {
     "data": {
      "image/png": "[encoded data removed]",
      "text/plain": [
       "<Figure size 432x288 with 2 Axes>"
      ]
     },
     "metadata": {
      "needs_background": "light"
     },
     "output_type": "display_data"
    }
   ],
   "source": [
    "plot_confusion_matrix(gs, X_test, y_test, display_labels=['esp', 'beer']);"
   ]
  },
  {
   "cell_type": "markdown",
   "id": "1ce57d45-e482-4bb5-b99f-df45d077291b",
   "metadata": {},
   "source": [
    " - 496 true positive (correct espresso)\n",
    " - 50 false positive (incorrect espresso)\n",
    " - 27 false negative (incorrect beer)\n",
    " - 477 true negative (correct beer)"
   ]
  },
  {
   "cell_type": "code",
   "execution_count": 9,
   "id": "ba2a6c4e-52a3-44a7-95c8-9feeb79ed772",
   "metadata": {},
   "outputs": [],
   "source": [
    "pred = gs.predict(X_test)"
   ]
  },
  {
   "cell_type": "code",
   "execution_count": 10,
   "id": "2120b44b-c8ea-4e51-9ac3-f5761227db5a",
   "metadata": {},
   "outputs": [
    {
     "name": "stdout",
     "output_type": "stream",
     "text": [
      "              precision    recall  f1-score   support\n",
      "\n",
      "           0       0.95      0.91      0.93       546\n",
      "           1       0.91      0.95      0.93       504\n",
      "\n",
      "    accuracy                           0.93      1050\n",
      "   macro avg       0.93      0.93      0.93      1050\n",
      "weighted avg       0.93      0.93      0.93      1050\n",
      "\n"
     ]
    }
   ],
   "source": [
    "from sklearn.metrics import classification_report\n",
    "print(classification_report(y_test, pred))"
   ]
  },
  {
   "cell_type": "markdown",
   "id": "3dc175d8-677e-4ff3-87f1-22d7dedb8f55",
   "metadata": {},
   "source": [
    "This model was trained on all text (title, selftext, author)"
   ]
  },
  {
   "cell_type": "code",
   "execution_count": 11,
   "id": "524a4a96-929d-4d16-b4b4-f4de359928e0",
   "metadata": {
    "tags": []
   },
   "outputs": [
    {
     "name": "stdout",
     "output_type": "stream",
     "text": [
      "Fitting 5 folds for each of 1 candidates, totalling 5 fits\n",
      "0.907273323743912\n"
     ]
    },
    {
     "data": {
      "text/plain": [
       "{'lr__penalty': 'l2',\n",
       " 'vect__binary': False,\n",
       " 'vect__max_df': 1.0,\n",
       " 'vect__max_features': None,\n",
       " 'vect__min_df': 1,\n",
       " 'vect__ngram_range': (1, 2),\n",
       " 'vect__stop_words': 'english'}"
      ]
     },
     "execution_count": 11,
     "metadata": {},
     "output_type": "execute_result"
    }
   ],
   "source": [
    "# set X and y\n",
    "X = df['text']\n",
    "y = df['topics']\n",
    "# train_test\n",
    "X_train, X_test, y_train, y_test = train_test_split(X, y, random_state=42)\n",
    "\n",
    "pipe = Pipeline([\n",
    "    ('vect', CountVectorizer()),\n",
    "    ('lr', LogisticRegression())\n",
    "])\n",
    "params = {\n",
    "    'lr__penalty': ['l2'],\n",
    "    'vect__binary': [False],\n",
    "    'vect__max_df': [1.0],\n",
    "    'vect__max_features': [None],\n",
    "    'vect__min_df': [1],\n",
    "    'vect__ngram_range': [(1, 2)],\n",
    "    'vect__stop_words': ['english'],\n",
    "\n",
    "#used parameters below to tune model then saved the best fit    \n",
    "#     'vect__stop_words': [None, 'english', stop_words],\n",
    "#     'vect__min_df': [1,2,3,4],\n",
    "#     'vect__max_df': [1.0, .75, .5, .25],\n",
    "#     'vect__binary': [True, False],\n",
    "#     'vect__tokenizer': [(r'A-Z')],\n",
    "#     'vect__max_features': [None, 4000],\n",
    "#     'vect__ngram_range': [(1,1),(1,2)],\n",
    "#     'lr__penalty': ['l1', 'l2', 'none'],\n",
    "}\n",
    "\n",
    "gs = GridSearchCV(pipe,\n",
    "                  param_grid=params,\n",
    "                  verbose=1)\n",
    "gs.fit(X_train, y_train)\n",
    "print(gs.best_score_) # <- cross val score FTW\n",
    "gs.best_params_"
   ]
  },
  {
   "cell_type": "code",
   "execution_count": 12,
   "id": "c6aef944-18c9-4560-b584-e000abe566fb",
   "metadata": {},
   "outputs": [
    {
     "data": {
      "image/png": "[encoded data removed]",
      "text/plain": [
       "<Figure size 432x288 with 2 Axes>"
      ]
     },
     "metadata": {
      "needs_background": "light"
     },
     "output_type": "display_data"
    }
   ],
   "source": [
    "plot_confusion_matrix(gs, X_test, y_test, display_labels=['esp', 'beer']);"
   ]
  },
  {
   "cell_type": "markdown",
   "id": "939f6dd6-11c9-477a-8926-c5a2a9687d95",
   "metadata": {},
   "source": [
    " - 465 true positive (correct espresso)\n",
    " - 81 false positive (incorrect espresso)\n",
    " - 10 false negative (incorrect beer)\n",
    " - 494 true negative (correct beer)"
   ]
  },
  {
   "cell_type": "code",
   "execution_count": 13,
   "id": "c7c4a12b-14b1-4554-9f23-ad3b79912321",
   "metadata": {},
   "outputs": [
    {
     "name": "stdout",
     "output_type": "stream",
     "text": [
      "              precision    recall  f1-score   support\n",
      "\n",
      "           0       0.98      0.85      0.91       546\n",
      "           1       0.86      0.98      0.92       504\n",
      "\n",
      "    accuracy                           0.91      1050\n",
      "   macro avg       0.92      0.92      0.91      1050\n",
      "weighted avg       0.92      0.91      0.91      1050\n",
      "\n"
     ]
    }
   ],
   "source": [
    "pred = gs.predict(X_test)\n",
    "from sklearn.metrics import classification_report\n",
    "print(classification_report(y_test, pred))"
   ]
  },
  {
   "cell_type": "markdown",
   "id": "80d0f7b6-7797-4c94-a112-438c107358ad",
   "metadata": {},
   "source": [
    "#### Best model \n",
    "trained on title and selftext"
   ]
  },
  {
   "cell_type": "code",
   "execution_count": 14,
   "id": "06c33b3e-dd91-4e02-b267-9f983d77ecc0",
   "metadata": {
    "scrolled": true,
    "tags": []
   },
   "outputs": [
    {
     "name": "stdout",
     "output_type": "stream",
     "text": [
      "Fitting 5 folds for each of 1 candidates, totalling 5 fits\n",
      "0.921879526585409\n"
     ]
    },
    {
     "data": {
      "text/plain": [
       "{'lr__penalty': 'l2',\n",
       " 'vect__binary': False,\n",
       " 'vect__max_df': 1.0,\n",
       " 'vect__max_features': 4000,\n",
       " 'vect__min_df': 1,\n",
       " 'vect__ngram_range': (1, 2),\n",
       " 'vect__stop_words': frozenset({'a',\n",
       "            'about',\n",
       "            'above',\n",
       "            'across',\n",
       "            'after',\n",
       "            'afterwards',\n",
       "            'again',\n",
       "            'against',\n",
       "            'all',\n",
       "            'almost',\n",
       "            'alone',\n",
       "            'along',\n",
       "            'already',\n",
       "            'also',\n",
       "            'although',\n",
       "            'always',\n",
       "            'am',\n",
       "            'among',\n",
       "            'amongst',\n",
       "            'amoungst',\n",
       "            'amount',\n",
       "            'an',\n",
       "            'and',\n",
       "            'another',\n",
       "            'any',\n",
       "            'anyhow',\n",
       "            'anyone',\n",
       "            'anything',\n",
       "            'anyway',\n",
       "            'anywhere',\n",
       "            'are',\n",
       "            'around',\n",
       "            'as',\n",
       "            'at',\n",
       "            'back',\n",
       "            'be',\n",
       "            'became',\n",
       "            'because',\n",
       "            'become',\n",
       "            'becomes',\n",
       "            'becoming',\n",
       "            'been',\n",
       "            'before',\n",
       "            'beforehand',\n",
       "            'behind',\n",
       "            'being',\n",
       "            'below',\n",
       "            'beside',\n",
       "            'besides',\n",
       "            'between',\n",
       "            'beyond',\n",
       "            'bill',\n",
       "            'both',\n",
       "            'bottom',\n",
       "            'but',\n",
       "            'by',\n",
       "            'call',\n",
       "            'can',\n",
       "            'cannot',\n",
       "            'cant',\n",
       "            'co',\n",
       "            'com',\n",
       "            'con',\n",
       "            'could',\n",
       "            'couldnt',\n",
       "            'cry',\n",
       "            'de',\n",
       "            'describe',\n",
       "            'detail',\n",
       "            'do',\n",
       "            'done',\n",
       "            'down',\n",
       "            'due',\n",
       "            'during',\n",
       "            'each',\n",
       "            'eg',\n",
       "            'eight',\n",
       "            'either',\n",
       "            'eleven',\n",
       "            'else',\n",
       "            'elsewhere',\n",
       "            'empty',\n",
       "            'enough',\n",
       "            'etc',\n",
       "            'even',\n",
       "            'ever',\n",
       "            'every',\n",
       "            'everyone',\n",
       "            'everything',\n",
       "            'everywhere',\n",
       "            'except',\n",
       "            'few',\n",
       "            'fifteen',\n",
       "            'fifty',\n",
       "            'fill',\n",
       "            'find',\n",
       "            'fire',\n",
       "            'first',\n",
       "            'five',\n",
       "            'for',\n",
       "            'former',\n",
       "            'formerly',\n",
       "            'forty',\n",
       "            'found',\n",
       "            'four',\n",
       "            'from',\n",
       "            'front',\n",
       "            'full',\n",
       "            'further',\n",
       "            'get',\n",
       "            'give',\n",
       "            'go',\n",
       "            'good',\n",
       "            'got',\n",
       "            'had',\n",
       "            'has',\n",
       "            'hasnt',\n",
       "            'have',\n",
       "            'he',\n",
       "            'hence',\n",
       "            'her',\n",
       "            'here',\n",
       "            'hereafter',\n",
       "            'hereby',\n",
       "            'herein',\n",
       "            'hereupon',\n",
       "            'hers',\n",
       "            'herself',\n",
       "            'him',\n",
       "            'himself',\n",
       "            'his',\n",
       "            'how',\n",
       "            'however',\n",
       "            'https',\n",
       "            'hundred',\n",
       "            'i',\n",
       "            'ie',\n",
       "            'if',\n",
       "            'in',\n",
       "            'inc',\n",
       "            'indeed',\n",
       "            'interest',\n",
       "            'into',\n",
       "            'is',\n",
       "            'it',\n",
       "            'its',\n",
       "            'itself',\n",
       "            'just',\n",
       "            'keep',\n",
       "            'know',\n",
       "            'last',\n",
       "            'latter',\n",
       "            'latterly',\n",
       "            'least',\n",
       "            'less',\n",
       "            'like',\n",
       "            'ltd',\n",
       "            'made',\n",
       "            'many',\n",
       "            'may',\n",
       "            'me',\n",
       "            'meanwhile',\n",
       "            'might',\n",
       "            'mill',\n",
       "            'mine',\n",
       "            'more',\n",
       "            'moreover',\n",
       "            'most',\n",
       "            'mostly',\n",
       "            'move',\n",
       "            'much',\n",
       "            'must',\n",
       "            'my',\n",
       "            'myself',\n",
       "            'name',\n",
       "            'namely',\n",
       "            'neither',\n",
       "            'never',\n",
       "            'nevertheless',\n",
       "            'new',\n",
       "            'next',\n",
       "            'nine',\n",
       "            'no',\n",
       "            'nobody',\n",
       "            'none',\n",
       "            'noone',\n",
       "            'nor',\n",
       "            'not',\n",
       "            'nothing',\n",
       "            'now',\n",
       "            'nowhere',\n",
       "            'of',\n",
       "            'off',\n",
       "            'often',\n",
       "            'on',\n",
       "            'once',\n",
       "            'one',\n",
       "            'only',\n",
       "            'onto',\n",
       "            'or',\n",
       "            'other',\n",
       "            'others',\n",
       "            'otherwise',\n",
       "            'our',\n",
       "            'ours',\n",
       "            'ourselves',\n",
       "            'out',\n",
       "            'over',\n",
       "            'own',\n",
       "            'part',\n",
       "            'per',\n",
       "            'perhaps',\n",
       "            'please',\n",
       "            'put',\n",
       "            'rather',\n",
       "            're',\n",
       "            'same',\n",
       "            'see',\n",
       "            'seem',\n",
       "            'seemed',\n",
       "            'seeming',\n",
       "            'seems',\n",
       "            'serious',\n",
       "            'several',\n",
       "            'she',\n",
       "            'should',\n",
       "            'show',\n",
       "            'side',\n",
       "            'since',\n",
       "            'sincere',\n",
       "            'six',\n",
       "            'sixty',\n",
       "            'so',\n",
       "            'some',\n",
       "            'somehow',\n",
       "            'someone',\n",
       "            'something',\n",
       "            'sometime',\n",
       "            'sometimes',\n",
       "            'somewhere',\n",
       "            'still',\n",
       "            'such',\n",
       "            'system',\n",
       "            'take',\n",
       "            'ten',\n",
       "            'than',\n",
       "            'that',\n",
       "            'the',\n",
       "            'their',\n",
       "            'them',\n",
       "            'themselves',\n",
       "            'then',\n",
       "            'thence',\n",
       "            'there',\n",
       "            'thereafter',\n",
       "            'thereby',\n",
       "            'therefore',\n",
       "            'therein',\n",
       "            'thereupon',\n",
       "            'these',\n",
       "            'they',\n",
       "            'thick',\n",
       "            'thin',\n",
       "            'third',\n",
       "            'this',\n",
       "            'those',\n",
       "            'though',\n",
       "            'three',\n",
       "            'through',\n",
       "            'throughout',\n",
       "            'thru',\n",
       "            'thus',\n",
       "            'to',\n",
       "            'together',\n",
       "            'too',\n",
       "            'top',\n",
       "            'toward',\n",
       "            'towards',\n",
       "            'twelve',\n",
       "            'twenty',\n",
       "            'two',\n",
       "            'un',\n",
       "            'under',\n",
       "            'until',\n",
       "            'up',\n",
       "            'upon',\n",
       "            'us',\n",
       "            've',\n",
       "            'very',\n",
       "            'via',\n",
       "            'was',\n",
       "            'we',\n",
       "            'well',\n",
       "            'were',\n",
       "            'what',\n",
       "            'whatever',\n",
       "            'when',\n",
       "            'whence',\n",
       "            'whenever',\n",
       "            'where',\n",
       "            'whereafter',\n",
       "            'whereas',\n",
       "            'whereby',\n",
       "            'wherein',\n",
       "            'whereupon',\n",
       "            'wherever',\n",
       "            'whether',\n",
       "            'which',\n",
       "            'while',\n",
       "            'whither',\n",
       "            'who',\n",
       "            'whoever',\n",
       "            'whole',\n",
       "            'whom',\n",
       "            'whose',\n",
       "            'why',\n",
       "            'will',\n",
       "            'with',\n",
       "            'within',\n",
       "            'without',\n",
       "            'would',\n",
       "            'www',\n",
       "            'yet',\n",
       "            'you',\n",
       "            'your',\n",
       "            'yours',\n",
       "            'yourself',\n",
       "            'yourselves'})}"
      ]
     },
     "execution_count": 14,
     "metadata": {},
     "output_type": "execute_result"
    }
   ],
   "source": [
    "# set X and y\n",
    "X = df['title_selftext']\n",
    "y = df['topics']\n",
    "# train_test\n",
    "X_train, X_test, y_train, y_test = train_test_split(X, y, random_state=42)\n",
    "\n",
    "pipe = Pipeline([\n",
    "    ('vect', CountVectorizer()),\n",
    "    ('lr', LogisticRegression())\n",
    "])\n",
    "params = {\n",
    "    'lr__penalty': ['l2'],\n",
    "    'vect__binary': [False],\n",
    "    'vect__max_df': [1.0],\n",
    "    'vect__max_features': [4000],\n",
    "    'vect__min_df': [1],\n",
    "    'vect__ngram_range': [(1, 2)],\n",
    "    'vect__stop_words': [stop_words],\n",
    "\n",
    "#used parameters below to tune model then saved the best fit    \n",
    "#     'vect__stop_words': [None, 'english', stop_words],\n",
    "#     'vect__min_df': [1,2,3,4],\n",
    "#     'vect__max_df': [1.0, .75, .5, .25],\n",
    "#     'vect__binary': [True, False],\n",
    "#     'vect__tokenizer': [(r'A-Z')],\n",
    "#     'vect__max_features': [None, 4000],\n",
    "#     'vect__ngram_range': [(1,1),(1,2)],\n",
    "#    'lr__penalty': ['l1', 'l2', 'none'],\n",
    "}\n",
    "\n",
    "gs = GridSearchCV(pipe,\n",
    "                  param_grid=params,\n",
    "                  verbose=1)\n",
    "gs.fit(X_train, y_train)\n",
    "print(gs.best_score_) # <- cross val score FTW\n",
    "gs.best_params_"
   ]
  },
  {
   "cell_type": "code",
   "execution_count": 15,
   "id": "54617967-6b2d-441b-98f1-c6e856d87cbe",
   "metadata": {},
   "outputs": [
    {
     "data": {
      "image/png": "[encoded data removed]",
      "text/plain": [
       "<Figure size 432x288 with 2 Axes>"
      ]
     },
     "metadata": {
      "needs_background": "light"
     },
     "output_type": "display_data"
    }
   ],
   "source": [
    "plot_confusion_matrix(gs, X_test, y_test, display_labels=['esp', 'beer']);"
   ]
  },
  {
   "cell_type": "markdown",
   "id": "126d33b7-20b1-43d4-9a27-9a068230d3b7",
   "metadata": {},
   "source": [
    " - 485 true positive (correct espresso)\n",
    " - 61 false positive (incorrect espresso)\n",
    " - 12 false negative (incorrect beer)\n",
    " - 492 true negative (correct beer)"
   ]
  },
  {
   "cell_type": "code",
   "execution_count": 16,
   "id": "fad0ab0f-3253-40ba-bcc0-5df347294a49",
   "metadata": {},
   "outputs": [
    {
     "name": "stdout",
     "output_type": "stream",
     "text": [
      "              precision    recall  f1-score   support\n",
      "\n",
      "           0       0.98      0.89      0.93       546\n",
      "           1       0.89      0.98      0.93       504\n",
      "\n",
      "    accuracy                           0.93      1050\n",
      "   macro avg       0.93      0.93      0.93      1050\n",
      "weighted avg       0.93      0.93      0.93      1050\n",
      "\n"
     ]
    }
   ],
   "source": [
    "pred = gs.predict(X_test)\n",
    "from sklearn.metrics import classification_report\n",
    "print(classification_report(y_test, pred))"
   ]
  },
  {
   "cell_type": "markdown",
   "id": "1c5cde69-9f78-41ff-a10f-43296d66642c",
   "metadata": {},
   "source": [
    "#### Created preds_df and saved for analysis"
   ]
  },
  {
   "cell_type": "code",
   "execution_count": 17,
   "id": "807789f1-245c-4643-a449-6c3ab03e6e7f",
   "metadata": {},
   "outputs": [],
   "source": [
    "preds_df = pd.DataFrame({\n",
    "    'title_text' : X_test, \n",
    "    'actual' : y_test, \n",
    "    'predicted' : gs.predict(X_test),\n",
    "    'P(r/espresso)' : [i[0] for i in gs.predict_proba(X_test)],\n",
    "    'P(r/CraftBeer)' : [i[1] for i in gs.predict_proba(X_test)]})\n",
    "preds_df['Prob Diff'] = np.abs(preds_df['P(r/CraftBeer)'] - preds_df['P(r/espresso)'])\n"
   ]
  },
  {
   "cell_type": "code",
   "execution_count": 18,
   "id": "725d03a1-c0a7-446c-91ba-3b8e1441e6f7",
   "metadata": {
    "tags": []
   },
   "outputs": [],
   "source": [
    "#preds_df.to_csv('./data/preds.csv')"
   ]
  },
  {
   "cell_type": "markdown",
   "id": "c6ccb1bb-b413-49cc-9bfa-4264450ba355",
   "metadata": {},
   "source": [
    "All models performed well with CountVec and LogReg. \n",
    "\n",
    "93% accuracy was achieved when training the data with the title and selftext combo\n",
    "\n",
    "\n",
    "Not the best model overall "
   ]
  },
  {
   "cell_type": "code",
   "execution_count": null,
   "id": "c7d51049-15e5-4a8c-8bb0-67fa85303d6f",
   "metadata": {},
   "outputs": [],
   "source": []
  }
 ],
 "metadata": {
  "kernelspec": {
   "display_name": "Python 3 (ipykernel)",
   "language": "python",
   "name": "python3"
  },
  "language_info": {
   "codemirror_mode": {
    "name": "ipython",
    "version": 3
   },
   "file_extension": ".py",
   "mimetype": "text/x-python",
   "name": "python",
   "nbconvert_exporter": "python",
   "pygments_lexer": "ipython3",
   "version": "3.9.7"
  }
 },
 "nbformat": 4,
 "nbformat_minor": 5
}
