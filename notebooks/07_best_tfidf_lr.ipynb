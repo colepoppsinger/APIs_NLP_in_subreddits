{
 "cells": [
  {
   "cell_type": "markdown",
   "id": "26a5624c-0ca5-46e0-a3ce-ad645f3e4279",
   "metadata": {},
   "source": [
    "# Best Model, Tfidf + LogReg"
   ]
  },
  {
   "cell_type": "code",
   "execution_count": 1,
   "id": "8c759d88-0d56-4111-8275-e3677fb3936b",
   "metadata": {},
   "outputs": [],
   "source": [
    "import pandas as pd\n",
    "import numpy as np\n",
    "import seaborn as sns\n",
    "import matplotlib.pyplot as plt\n",
    "\n",
    "from sklearn.linear_model import LogisticRegression \n",
    "from sklearn.feature_extraction.text import CountVectorizer, TfidfVectorizer\n",
    "from sklearn.pipeline import Pipeline\n",
    "from sklearn.model_selection import train_test_split, GridSearchCV\n",
    "from sklearn.metrics import plot_confusion_matrix\n",
    "from nltk.sentiment.vader import SentimentIntensityAnalyzer\n",
    "from sklearn.neighbors import KNeighborsClassifier"
   ]
  },
  {
   "cell_type": "code",
   "execution_count": 2,
   "id": "3e06c175-6770-4ace-a8c5-6623acd6ae1b",
   "metadata": {},
   "outputs": [],
   "source": [
    "df = pd.read_csv('../data/cleaned_engineered.csv')\n",
    "df.drop(columns='Unnamed: 0', inplace=True)"
   ]
  },
  {
   "cell_type": "code",
   "execution_count": 3,
   "id": "999b4876-38b1-4bec-8fee-a49e6ec60332",
   "metadata": {},
   "outputs": [
    {
     "data": {
      "text/plain": [
       "0    0.500119\n",
       "1    0.499881\n",
       "Name: topics, dtype: float64"
      ]
     },
     "execution_count": 3,
     "metadata": {},
     "output_type": "execute_result"
    }
   ],
   "source": [
    "# set X and y\n",
    "X = df['title_selftext']\n",
    "y = df['topics']\n",
    "#baseline\n",
    "y.value_counts(normalize=True)"
   ]
  },
  {
   "cell_type": "code",
   "execution_count": 4,
   "id": "014ba6f1-90ed-4f9a-a657-07c172cd83a4",
   "metadata": {},
   "outputs": [],
   "source": [
    "# train_test\n",
    "X_train, X_test, y_train, y_test = train_test_split(X, y, random_state=42)"
   ]
  },
  {
   "cell_type": "code",
   "execution_count": 5,
   "id": "4e6a3322-5765-44fb-b46a-63d1faaad3b7",
   "metadata": {},
   "outputs": [],
   "source": [
    "pipe = Pipeline([\n",
    "    ('tfid', TfidfVectorizer()),\n",
    "    ('lr', LogisticRegression())\n",
    "])"
   ]
  },
  {
   "cell_type": "code",
   "execution_count": 6,
   "id": "849105c8-be91-4490-ac76-ca4c07766659",
   "metadata": {},
   "outputs": [
    {
     "name": "stdout",
     "output_type": "stream",
     "text": [
      "Fitting 5 folds for each of 64 candidates, totalling 320 fits\n",
      "0.9314088878794762\n"
     ]
    },
    {
     "data": {
      "text/plain": [
       "{'tfid__binary': False,\n",
       " 'tfid__max_df': 1.0,\n",
       " 'tfid__min_df': 2,\n",
       " 'tfid__ngram_range': (1, 2),\n",
       " 'tfid__stop_words': 'english'}"
      ]
     },
     "execution_count": 6,
     "metadata": {},
     "output_type": "execute_result"
    }
   ],
   "source": [
    "params = {\n",
    "     'tfid__stop_words': [None, 'english'],\n",
    "     'tfid__min_df': [1,2,3,4],\n",
    "     'tfid__max_df': [1.0, .75, .5, .25],\n",
    "     'tfid__binary': [True, False],\n",
    "#     'vect__max_features': [None, 4000, 5000],\n",
    "     'tfid__ngram_range': [(1,2)]\n",
    "#    'lr__penalty': ['l1', 'l2', 'elasticnet', 'none']\n",
    "}\n",
    "\n",
    "gs = GridSearchCV(pipe,\n",
    "                  param_grid=params,\n",
    "                  verbose=1)\n",
    "gs.fit(X_train, y_train)\n",
    "print(gs.best_score_) # <- cross val score FTW\n",
    "gs.best_params_"
   ]
  },
  {
   "cell_type": "code",
   "execution_count": 7,
   "id": "9cce8688-7e09-4b33-980b-887691b63a8f",
   "metadata": {},
   "outputs": [
    {
     "data": {
      "image/png": "[encoded data removed]",
      "text/plain": [
       "<Figure size 432x288 with 1 Axes>"
      ]
     },
     "metadata": {
      "needs_background": "light"
     },
     "output_type": "display_data"
    }
   ],
   "source": [
    "plot_confusion_matrix(gs, X_test, y_test, display_labels=['esp', 'beer'], cmap='YlOrRd', colorbar=False);"
   ]
  },
  {
   "cell_type": "markdown",
   "id": "4e3a603c-b9a9-4d33-a07f-7cc4993e28cf",
   "metadata": {},
   "source": [
    " - 501 true positive (correct espresso)\n",
    " - 45 false positive (incorrect espresso)\n",
    " - 19 false negative (incorrect beer)\n",
    " - 485 true negative (correct beer)"
   ]
  },
  {
   "cell_type": "code",
   "execution_count": 8,
   "id": "ba2a6c4e-52a3-44a7-95c8-9feeb79ed772",
   "metadata": {},
   "outputs": [
    {
     "name": "stdout",
     "output_type": "stream",
     "text": [
      "              precision    recall  f1-score   support\n",
      "\n",
      "           0       0.96      0.92      0.94       546\n",
      "           1       0.92      0.96      0.94       504\n",
      "\n",
      "    accuracy                           0.94      1050\n",
      "   macro avg       0.94      0.94      0.94      1050\n",
      "weighted avg       0.94      0.94      0.94      1050\n",
      "\n"
     ]
    }
   ],
   "source": [
    "pred = gs.predict(X_test)\n",
    "from sklearn.metrics import classification_report\n",
    "print(classification_report(y_test, pred))"
   ]
  },
  {
   "cell_type": "code",
   "execution_count": 9,
   "id": "01c1bace-a422-4c87-b7ea-ed6f93dcf185",
   "metadata": {},
   "outputs": [],
   "source": [
    "preds_df = pd.DataFrame({\n",
    "    'title_text' : X_test, \n",
    "    'actual' : y_test, \n",
    "    'predicted' : gs.predict(X_test),\n",
    "    'P(r/espresso)' : [i[0] for i in gs.predict_proba(X_test)],\n",
    "    'P(r/CraftBeer)' : [i[1] for i in gs.predict_proba(X_test)]})\n",
    "preds_df['Prob Diff'] = np.abs(preds_df['P(r/CraftBeer)'] - preds_df['P(r/espresso)'])"
   ]
  },
  {
   "cell_type": "code",
   "execution_count": 10,
   "id": "f79ccb71-4118-48bc-8ffc-f92c751562c3",
   "metadata": {},
   "outputs": [],
   "source": [
    "#preds_df.to_csv('../data/best_preds.csv')"
   ]
  },
  {
   "cell_type": "code",
   "execution_count": null,
   "id": "831ac8af-f46b-43d9-8fa9-7e4041d9cd09",
   "metadata": {},
   "outputs": [],
   "source": []
  }
 ],
 "metadata": {
  "kernelspec": {
   "display_name": "Python 3 (ipykernel)",
   "language": "python",
   "name": "python3"
  },
  "language_info": {
   "codemirror_mode": {
    "name": "ipython",
    "version": 3
   },
   "file_extension": ".py",
   "mimetype": "text/x-python",
   "name": "python",
   "nbconvert_exporter": "python",
   "pygments_lexer": "ipython3",
   "version": "3.9.7"
  }
 },
 "nbformat": 4,
 "nbformat_minor": 5
}
