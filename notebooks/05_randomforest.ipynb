{
 "cells": [
  {
   "cell_type": "markdown",
   "id": "1c8496e4-73bf-4345-b324-b8a11a9d7625",
   "metadata": {},
   "source": [
    "# Random Forest"
   ]
  },
  {
   "cell_type": "code",
   "execution_count": 99,
   "id": "8c759d88-0d56-4111-8275-e3677fb3936b",
   "metadata": {},
   "outputs": [],
   "source": [
    "import pandas as pd\n",
    "import numpy as np\n",
    "import seaborn as sns\n",
    "import matplotlib.pyplot as plt\n",
    "\n",
    "from sklearn.linear_model import LogisticRegression \n",
    "from sklearn.feature_extraction.text import CountVectorizer, TfidfVectorizer\n",
    "from sklearn.pipeline import Pipeline, FeatureUnion\n",
    "from sklearn.model_selection import train_test_split, GridSearchCV, cross_val_score\n",
    "from sklearn.metrics import plot_confusion_matrix, accuracy_score, confusion_matrix, classification_report\n",
    "from nltk.sentiment.vader import SentimentIntensityAnalyzer\n",
    "from sklearn.neighbors import KNeighborsClassifier\n",
    "\n",
    "from sklearn.tree import DecisionTreeClassifier\n",
    "\n",
    "from sklearn.preprocessing import FunctionTransformer\n",
    "from sklearn.ensemble import BaggingClassifier, RandomForestClassifier, ExtraTreesClassifier"
   ]
  },
  {
   "cell_type": "code",
   "execution_count": 100,
   "id": "3e06c175-6770-4ace-a8c5-6623acd6ae1b",
   "metadata": {},
   "outputs": [],
   "source": [
    "df = pd.read_csv('./data/cleaned_engineered.csv')\n",
    "df.drop(columns='Unnamed: 0', inplace=True)\n",
    "#0 is espresso, 1 is beer"
   ]
  },
  {
   "cell_type": "markdown",
   "id": "1e0287ce-9d53-41b3-9ca1-9e7d15bb8841",
   "metadata": {},
   "source": [
    "# TREES"
   ]
  },
  {
   "cell_type": "code",
   "execution_count": 133,
   "id": "fcb81d0d-3575-4291-9dc0-f3f0cd9e38b6",
   "metadata": {},
   "outputs": [],
   "source": [
    "numeric = df.dtypes[df.dtypes != 'object'].index\n",
    "selected = df[numeric]"
   ]
  },
  {
   "cell_type": "code",
   "execution_count": 135,
   "id": "999b4876-38b1-4bec-8fee-a49e6ec60332",
   "metadata": {},
   "outputs": [
    {
     "data": {
      "text/plain": [
       "0    0.500119\n",
       "1    0.499881\n",
       "Name: topics, dtype: float64"
      ]
     },
     "execution_count": 135,
     "metadata": {},
     "output_type": "execute_result"
    }
   ],
   "source": [
    "# set X and y\n",
    "X =  selected.drop(columns='topics')\n",
    "y = df['topics']\n",
    "#baseline\n",
    "y.value_counts(normalize=True)"
   ]
  },
  {
   "cell_type": "code",
   "execution_count": 136,
   "id": "014ba6f1-90ed-4f9a-a657-07c172cd83a4",
   "metadata": {},
   "outputs": [],
   "source": [
    "# train_test\n",
    "X_train, X_test, y_train, y_test = train_test_split(X, y, random_state=42, stratify=y)"
   ]
  },
  {
   "cell_type": "code",
   "execution_count": 137,
   "id": "8848dca4-1955-49c9-b898-02140ef3adc0",
   "metadata": {},
   "outputs": [],
   "source": [
    "rf = RandomForestClassifier(random_state=42)"
   ]
  },
  {
   "cell_type": "code",
   "execution_count": 138,
   "id": "e8a5425b-e71c-4b2c-bc21-8c9960e66a28",
   "metadata": {
    "tags": []
   },
   "outputs": [
    {
     "data": {
      "text/plain": [
       "0.8672506119564943"
      ]
     },
     "execution_count": 138,
     "metadata": {},
     "output_type": "execute_result"
    }
   ],
   "source": [
    "cross_val_score(rf, X_train, y_train).mean()"
   ]
  },
  {
   "cell_type": "code",
   "execution_count": 139,
   "id": "849105c8-be91-4490-ac76-ca4c07766659",
   "metadata": {},
   "outputs": [
    {
     "name": "stdout",
     "output_type": "stream",
     "text": [
      "0.8755197214020743\n"
     ]
    },
    {
     "data": {
      "text/plain": [
       "{'max_depth': 3, 'max_features': 5, 'n_estimators': 75}"
      ]
     },
     "execution_count": 139,
     "metadata": {},
     "output_type": "execute_result"
    }
   ],
   "source": [
    "params = {\n",
    "    'n_estimators': [75, 100, 125],\n",
    "    'max_depth': [None, 3, 4, 5, 10],\n",
    "    'max_features': ['auto', 3, 4, 5],\n",
    "    \n",
    "}\n",
    "gs = GridSearchCV(RandomForestClassifier(random_state=42), param_grid=params, verbose=0)\n",
    "gs.fit(X_train, y_train)\n",
    "print(gs.best_score_)\n",
    "gs.best_params_"
   ]
  },
  {
   "cell_type": "code",
   "execution_count": 140,
   "id": "9cce8688-7e09-4b33-980b-887691b63a8f",
   "metadata": {},
   "outputs": [
    {
     "data": {
      "image/png": "[encoded data removed]",
      "text/plain": [
       "<Figure size 432x288 with 2 Axes>"
      ]
     },
     "metadata": {
      "needs_background": "light"
     },
     "output_type": "display_data"
    }
   ],
   "source": [
    "plot_confusion_matrix(gs, X_test, y_test, display_labels=['esp', 'beer']);"
   ]
  },
  {
   "cell_type": "code",
   "execution_count": 141,
   "id": "ba2a6c4e-52a3-44a7-95c8-9feeb79ed772",
   "metadata": {},
   "outputs": [
    {
     "data": {
      "text/plain": [
       "0.8780565258812322"
      ]
     },
     "execution_count": 141,
     "metadata": {},
     "output_type": "execute_result"
    }
   ],
   "source": [
    "gs.score(X_train, y_train)"
   ]
  },
  {
   "cell_type": "code",
   "execution_count": 142,
   "id": "94fac477-1672-450f-b09d-853648066208",
   "metadata": {},
   "outputs": [
    {
     "data": {
      "text/plain": [
       "0.8742857142857143"
      ]
     },
     "execution_count": 142,
     "metadata": {},
     "output_type": "execute_result"
    }
   ],
   "source": [
    "gs.score(X_test, y_test)"
   ]
  },
  {
   "cell_type": "code",
   "execution_count": 143,
   "id": "8c79b759-0936-4ca6-965f-e22ff35a2786",
   "metadata": {},
   "outputs": [],
   "source": [
    "pred = gs.predict(X_test)"
   ]
  },
  {
   "cell_type": "code",
   "execution_count": 144,
   "id": "d113f732-e02a-4d95-8410-5bb2d116d50e",
   "metadata": {},
   "outputs": [
    {
     "data": {
      "image/png": "[encoded data removed]",
      "text/plain": [
       "<Figure size 432x288 with 1 Axes>"
      ]
     },
     "metadata": {
      "needs_background": "light"
     },
     "output_type": "display_data"
    }
   ],
   "source": [
    "from sklearn.metrics import plot_roc_curve\n",
    "plot_roc_curve(gs, X_test, y_test);"
   ]
  },
  {
   "cell_type": "code",
   "execution_count": 145,
   "id": "9ef42dc0-0f9d-4bd5-8206-dc88ce9058ef",
   "metadata": {},
   "outputs": [
    {
     "data": {
      "text/plain": [
       "array([0.87491053, 0.9217123 , 0.3554806 , ..., 0.44732095, 0.17456431,\n",
       "       0.69296434])"
      ]
     },
     "execution_count": 145,
     "metadata": {},
     "output_type": "execute_result"
    }
   ],
   "source": [
    "probs = gs.predict_proba(X_test)[:, 1]\n",
    "probs"
   ]
  },
  {
   "cell_type": "code",
   "execution_count": 146,
   "id": "4c8af658-e033-4acb-97b8-86ccbaac5e98",
   "metadata": {},
   "outputs": [
    {
     "name": "stdout",
     "output_type": "stream",
     "text": [
      "              precision    recall  f1-score   support\n",
      "\n",
      "           0       0.82      0.96      0.88       525\n",
      "           1       0.95      0.79      0.86       525\n",
      "\n",
      "    accuracy                           0.87      1050\n",
      "   macro avg       0.89      0.87      0.87      1050\n",
      "weighted avg       0.89      0.87      0.87      1050\n",
      "\n"
     ]
    }
   ],
   "source": [
    "print(classification_report(y_test, pred))"
   ]
  },
  {
   "cell_type": "code",
   "execution_count": null,
   "id": "860050cd-7ded-4ef0-8c00-771cc609c229",
   "metadata": {},
   "outputs": [],
   "source": []
  }
 ],
 "metadata": {
  "kernelspec": {
   "display_name": "Python 3 (ipykernel)",
   "language": "python",
   "name": "python3"
  },
  "language_info": {
   "codemirror_mode": {
    "name": "ipython",
    "version": 3
   },
   "file_extension": ".py",
   "mimetype": "text/x-python",
   "name": "python",
   "nbconvert_exporter": "python",
   "pygments_lexer": "ipython3",
   "version": "3.9.7"
  }
 },
 "nbformat": 4,
 "nbformat_minor": 5
}
